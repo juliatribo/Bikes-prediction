{
 "cells": [
  {
   "cell_type": "markdown",
   "id": "a9e46aad",
   "metadata": {},
   "source": [
    "<span style=\"font-width:bold; font-size: 3rem; color:#333;\">- Part 02: Daily Feature Pipeline for Air Quality (aqicn.org) and weather (openmeteo)</span>\n",
    "\n",
    "## 🗒️ This notebook is divided into the following sections:\n",
    "1. Download and Parse Data\n",
    "2. Feature Group Insertion\n",
    "\n",
    "\n",
    "__This notebook should be scheduled to run daily__\n",
    "\n",
    "In the book, we use a GitHub Action stored here:\n",
    "[.github/workflows/air-quality-daily.yml](https://github.com/featurestorebook/mlfs-book/blob/main/.github/workflows/air-quality-daily.yml)\n",
    "\n",
    "However, you are free to use any Python Orchestration tool to schedule this program to run daily."
   ]
  },
  {
   "cell_type": "markdown",
   "id": "cfe638c6",
   "metadata": {},
   "source": [
    "### <span style='color:#ff5f27'> 📝 Imports"
   ]
  },
  {
   "cell_type": "code",
   "execution_count": 1,
   "id": "7de2e93a",
   "metadata": {},
   "outputs": [
    {
     "name": "stderr",
     "output_type": "stream",
     "text": [
      "/Users/juliatribocabre/Desktop/KTH/Courses/SCALABLE ML AND DEEP LEARNING/bikes-prediction/Bikes-prediction/venv/lib/python3.11/site-packages/tqdm/auto.py:21: TqdmWarning: IProgress not found. Please update jupyter and ipywidgets. See https://ipywidgets.readthedocs.io/en/stable/user_install.html\n",
      "  from .autonotebook import tqdm as notebook_tqdm\n",
      "FutureIncompatibilityWarning: \n",
      "\n",
      "This is a future version incompatibility warning from Holidays v0.63\n",
      "to inform you about an upcoming change in our API versioning strategy that may affect your\n",
      "project's dependencies. Starting from version 1.0 onwards, we will be following a loose form of\n",
      "Semantic Versioning (SemVer, https://semver.org) to provide clearer communication regarding any\n",
      "potential breaking changes.\n",
      "\n",
      "This means that while we strive to maintain backward compatibility, there might be occasional\n",
      "updates that introduce breaking changes to our API. To ensure the stability of your projects,\n",
      "we highly recommend pinning the version of our API that you rely on. You can pin your current\n",
      "holidays v0.x dependency (e.g., holidays==0.63) or limit it (e.g., holidays<1.0) in order to\n",
      "avoid potentially unwanted upgrade to the version 1.0 when it's released (ETA 2025Q1-Q2).\n",
      "\n",
      "If you have any questions or concerns regarding this change, please don't hesitate to reach out\n",
      "to us via https://github.com/vacanza/holidays/discussions/1800.\n",
      "\n"
     ]
    }
   ],
   "source": [
    "import datetime\n",
    "import time\n",
    "import requests\n",
    "import pandas as pd\n",
    "import hopsworks\n",
    "from functions import util\n",
    "import json\n",
    "import os\n",
    "import warnings\n",
    "import holidays\n",
    "warnings.filterwarnings(\"ignore\")"
   ]
  },
  {
   "cell_type": "markdown",
   "id": "da6081d1",
   "metadata": {},
   "source": [
    "## <span style='color:#ff5f27'> 🌍 Get the Sensor URL, Country, City, Street names from Hopsworks </span>\n",
    "\n",
    "__Update the values in the cell below.__\n",
    "\n",
    "__These should be the same values as in notebook 1 - the feature backfill notebook__\n"
   ]
  },
  {
   "cell_type": "code",
   "execution_count": 25,
   "id": "b70cd57d",
   "metadata": {
    "tags": []
   },
   "outputs": [
    {
     "name": "stdout",
     "output_type": "stream",
     "text": [
      "2025-01-03 13:27:04,180 INFO: Closing external client and cleaning up certificates.\n",
      "Connection closed.\n",
      "2025-01-03 13:27:04,189 INFO: Initializing external client\n",
      "2025-01-03 13:27:04,190 INFO: Base URL: https://c.app.hopsworks.ai:443\n",
      "2025-01-03 13:27:05,315 INFO: Python Engine initialized.\n",
      "\n",
      "Logged in to project, explore it here https://c.app.hopsworks.ai:443/p/1164440\n"
     ]
    },
    {
     "data": {
      "text/plain": [
       "'{\"city\": \"Barcelona\", \"station_id\": 42, \"bikes_url\": \"https://opendata-ajuntament.barcelona.cat/data/dataset/estat-estacions-bicing/resource/1b215493-9e63-4a12-8980-2d7e0fa19f85/download/recurs.json\", \"latitude\": \"41.404511\", \"longitude\": \"2.189881\"}'"
      ]
     },
     "execution_count": 25,
     "metadata": {},
     "output_type": "execute_result"
    }
   ],
   "source": [
    "# If you haven't set the env variable 'HOPSWORKS_API_KEY', then uncomment the next line and enter your API key\n",
    "# os.environ[\"HOPSWORKS_API_KEY\"] = \"\"\n",
    "#check if os.environ[\"HOPSWORKS_API_KEY\"] is set\n",
    "if not os.environ.get(\"HOPSWORKS_API_KEY\"):\n",
    "    with open('../../data/hopsworks-api-key.txt', 'r') as file:\n",
    "        os.environ[\"HOPSWORKS_API_KEY\"] = file.read().rstrip()\n",
    "\n",
    "project = hopsworks.login(project=\"juls_first_project\")\n",
    "fs = project.get_feature_store() \n",
    "secrets = hopsworks.get_secrets_api()\n",
    "\n",
    "\n",
    "BICING_API_KEY = secrets.get_secret(\"BICING_API_KEY\").value\n",
    "station_str = secrets.get_secret(\"STATION_PARAMS_JSON\").value\n",
    "station= json.loads(station_str)\n",
    "\n",
    "city=station['city']\n",
    "station_id=station['station_id']\n",
    "bikes_url=station['bikes_url']\n",
    "latitude=station['latitude']\n",
    "longitude=station['longitude']\n",
    "\n",
    "today = datetime.date.today()\n",
    "\n",
    "station_str"
   ]
  },
  {
   "cell_type": "markdown",
   "id": "2caf9289",
   "metadata": {},
   "source": [
    "### <span style=\"color:#ff5f27;\"> 🔮 Get references to the Feature Groups </span>"
   ]
  },
  {
   "cell_type": "code",
   "execution_count": 26,
   "id": "66f5d7d5",
   "metadata": {},
   "outputs": [],
   "source": [
    "# Retrieve feature groups\n",
    "bikes_fg = fs.get_feature_group(\n",
    "    name='bikes',\n",
    "    version=2,\n",
    ")\n",
    "weather_fg = fs.get_feature_group(\n",
    "    name='weather',\n",
    "    version=2,\n",
    ")"
   ]
  },
  {
   "cell_type": "markdown",
   "id": "e10b6ce8",
   "metadata": {},
   "source": [
    "---"
   ]
  },
  {
   "cell_type": "markdown",
   "id": "1a7ffa41",
   "metadata": {},
   "source": [
    "## <span style='color:#ff5f27'> 🌫 Retrieve Today's Air Quality data (PM2.5) from the AQI API</span>\n"
   ]
  },
  {
   "cell_type": "code",
   "execution_count": 27,
   "id": "6f681af6",
   "metadata": {},
   "outputs": [
    {
     "data": {
      "text/html": [
       "<div>\n",
       "<style scoped>\n",
       "    .dataframe tbody tr th:only-of-type {\n",
       "        vertical-align: middle;\n",
       "    }\n",
       "\n",
       "    .dataframe tbody tr th {\n",
       "        vertical-align: top;\n",
       "    }\n",
       "\n",
       "    .dataframe thead th {\n",
       "        text-align: right;\n",
       "    }\n",
       "</style>\n",
       "<table border=\"1\" class=\"dataframe\">\n",
       "  <thead>\n",
       "    <tr style=\"text-align: right;\">\n",
       "      <th></th>\n",
       "      <th>station_id</th>\n",
       "      <th>num_bikes_available</th>\n",
       "      <th>last_reported</th>\n",
       "    </tr>\n",
       "  </thead>\n",
       "  <tbody>\n",
       "    <tr>\n",
       "      <th>0</th>\n",
       "      <td>42</td>\n",
       "      <td>3</td>\n",
       "      <td>2025-01-03 12:25:57+00:00</td>\n",
       "    </tr>\n",
       "  </tbody>\n",
       "</table>\n",
       "</div>"
      ],
      "text/plain": [
       "   station_id  num_bikes_available             last_reported\n",
       "0          42                    3 2025-01-03 12:25:57+00:00"
      ]
     },
     "execution_count": 27,
     "metadata": {},
     "output_type": "execute_result"
    }
   ],
   "source": [
    "\n",
    "import pandas as pd\n",
    "\n",
    "bike_today_df = util.fetch_station_data(bikes_url,BICING_API_KEY, station_id)\n",
    "\n",
    "\n",
    "bike_today_df\n"
   ]
  },
  {
   "cell_type": "code",
   "execution_count": 28,
   "id": "4144a4ff",
   "metadata": {},
   "outputs": [
    {
     "data": {
      "text/html": [
       "<div>\n",
       "<style scoped>\n",
       "    .dataframe tbody tr th:only-of-type {\n",
       "        vertical-align: middle;\n",
       "    }\n",
       "\n",
       "    .dataframe tbody tr th {\n",
       "        vertical-align: top;\n",
       "    }\n",
       "\n",
       "    .dataframe thead th {\n",
       "        text-align: right;\n",
       "    }\n",
       "</style>\n",
       "<table border=\"1\" class=\"dataframe\">\n",
       "  <thead>\n",
       "    <tr style=\"text-align: right;\">\n",
       "      <th></th>\n",
       "      <th>date</th>\n",
       "      <th>num_bikes_available</th>\n",
       "      <th>day</th>\n",
       "      <th>time</th>\n",
       "      <th>is_weekend</th>\n",
       "      <th>is_holiday</th>\n",
       "    </tr>\n",
       "  </thead>\n",
       "  <tbody>\n",
       "    <tr>\n",
       "      <th>0</th>\n",
       "      <td>2025-01-03 12:00:00</td>\n",
       "      <td>3.0</td>\n",
       "      <td>2025-01-03</td>\n",
       "      <td>12</td>\n",
       "      <td>False</td>\n",
       "      <td>False</td>\n",
       "    </tr>\n",
       "  </tbody>\n",
       "</table>\n",
       "</div>"
      ],
      "text/plain": [
       "                 date  num_bikes_available         day  time  is_weekend  \\\n",
       "0 2025-01-03 12:00:00                  3.0  2025-01-03    12       False   \n",
       "\n",
       "   is_holiday  \n",
       "0       False  "
      ]
     },
     "execution_count": 28,
     "metadata": {},
     "output_type": "execute_result"
    }
   ],
   "source": [
    "# cast last_reported to a string\n",
    "bike_today_df = bike_today_df[['last_reported', 'num_bikes_available']]\n",
    "\n",
    "# Create column 'day' with the date\n",
    "bike_today_df['day'] = bike_today_df['last_reported'].dt.strftime('%Y-%m-%d')\n",
    "# Create column 'time' with the hour\n",
    "bike_today_df['time'] = bike_today_df['last_reported'].dt.strftime('%H')\n",
    "bike_today_df = bike_today_df.rename(columns={\"last_reported\": \"date\"})\n",
    "\n",
    "## Add a column date with the date based on the columns day and time, type datetime\n",
    "bike_today_df['date'] = bike_today_df['day'] + ' ' + bike_today_df['time'] + ':00:00'\n",
    "bike_today_df['date'] = pd.to_datetime(bike_today_df['date'], format='%Y-%m-%d %H:%M:%S')\n",
    "\n",
    "## Adding a new boolean column if the date is weekend or not\n",
    "bike_today_df['is_weekend'] = bike_today_df['date'].dt.dayofweek > 4\n",
    "## Adding a new boolean column if the date is holiday or not\n",
    "holidays_es = holidays.Spain()\n",
    "bike_today_df['is_holiday'] = bike_today_df['date'].dt.date.astype(str).map(lambda x: x in holidays_es)\n",
    "\n",
    "# cast num_bikes_available to double\n",
    "bike_today_df['num_bikes_available'] = bike_today_df['num_bikes_available'].astype(float)\n",
    "# cast time to int\n",
    "bike_today_df['time'] = bike_today_df['time'].astype(int)\n",
    "\n",
    "\n",
    "bike_today_df"
   ]
  },
  {
   "cell_type": "code",
   "execution_count": 29,
   "id": "b9e24eda",
   "metadata": {},
   "outputs": [
    {
     "name": "stdout",
     "output_type": "stream",
     "text": [
      "<class 'pandas.core.frame.DataFrame'>\n",
      "RangeIndex: 1 entries, 0 to 0\n",
      "Data columns (total 6 columns):\n",
      " #   Column               Non-Null Count  Dtype         \n",
      "---  ------               --------------  -----         \n",
      " 0   date                 1 non-null      datetime64[ns]\n",
      " 1   num_bikes_available  1 non-null      float64       \n",
      " 2   day                  1 non-null      object        \n",
      " 3   time                 1 non-null      int64         \n",
      " 4   is_weekend           1 non-null      bool          \n",
      " 5   is_holiday           1 non-null      bool          \n",
      "dtypes: bool(2), datetime64[ns](1), float64(1), int64(1), object(1)\n",
      "memory usage: 166.0+ bytes\n"
     ]
    }
   ],
   "source": [
    "bike_today_df.info()"
   ]
  },
  {
   "cell_type": "markdown",
   "id": "af845ab6",
   "metadata": {},
   "source": [
    "## <span style='color:#ff5f27'> 🌦 Get Weather Forecast data</span>"
   ]
  },
  {
   "cell_type": "code",
   "execution_count": 30,
   "id": "d2ecb3e7",
   "metadata": {},
   "outputs": [
    {
     "name": "stdout",
     "output_type": "stream",
     "text": [
      "Coordinates 41.5°N 2.25°E\n",
      "Elevation 13.0 m asl\n",
      "Timezone None None\n",
      "Timezone difference to GMT+0 0 s\n"
     ]
    },
    {
     "data": {
      "text/html": [
       "<div>\n",
       "<style scoped>\n",
       "    .dataframe tbody tr th:only-of-type {\n",
       "        vertical-align: middle;\n",
       "    }\n",
       "\n",
       "    .dataframe tbody tr th {\n",
       "        vertical-align: top;\n",
       "    }\n",
       "\n",
       "    .dataframe thead th {\n",
       "        text-align: right;\n",
       "    }\n",
       "</style>\n",
       "<table border=\"1\" class=\"dataframe\">\n",
       "  <thead>\n",
       "    <tr style=\"text-align: right;\">\n",
       "      <th></th>\n",
       "      <th>date</th>\n",
       "      <th>temperature</th>\n",
       "      <th>precipitation</th>\n",
       "      <th>day</th>\n",
       "      <th>time</th>\n",
       "      <th>city</th>\n",
       "    </tr>\n",
       "  </thead>\n",
       "  <tbody>\n",
       "    <tr>\n",
       "      <th>0</th>\n",
       "      <td>2025-01-03 00:00:00</td>\n",
       "      <td>5.55</td>\n",
       "      <td>0.0</td>\n",
       "      <td>2025-01-03</td>\n",
       "      <td>0</td>\n",
       "      <td>Barcelona</td>\n",
       "    </tr>\n",
       "    <tr>\n",
       "      <th>1</th>\n",
       "      <td>2025-01-03 01:00:00</td>\n",
       "      <td>5.95</td>\n",
       "      <td>0.0</td>\n",
       "      <td>2025-01-03</td>\n",
       "      <td>1</td>\n",
       "      <td>Barcelona</td>\n",
       "    </tr>\n",
       "    <tr>\n",
       "      <th>2</th>\n",
       "      <td>2025-01-03 02:00:00</td>\n",
       "      <td>6.55</td>\n",
       "      <td>0.0</td>\n",
       "      <td>2025-01-03</td>\n",
       "      <td>2</td>\n",
       "      <td>Barcelona</td>\n",
       "    </tr>\n",
       "    <tr>\n",
       "      <th>3</th>\n",
       "      <td>2025-01-03 03:00:00</td>\n",
       "      <td>6.85</td>\n",
       "      <td>0.0</td>\n",
       "      <td>2025-01-03</td>\n",
       "      <td>3</td>\n",
       "      <td>Barcelona</td>\n",
       "    </tr>\n",
       "    <tr>\n",
       "      <th>4</th>\n",
       "      <td>2025-01-03 04:00:00</td>\n",
       "      <td>6.50</td>\n",
       "      <td>0.0</td>\n",
       "      <td>2025-01-03</td>\n",
       "      <td>4</td>\n",
       "      <td>Barcelona</td>\n",
       "    </tr>\n",
       "    <tr>\n",
       "      <th>...</th>\n",
       "      <td>...</td>\n",
       "      <td>...</td>\n",
       "      <td>...</td>\n",
       "      <td>...</td>\n",
       "      <td>...</td>\n",
       "      <td>...</td>\n",
       "    </tr>\n",
       "    <tr>\n",
       "      <th>235</th>\n",
       "      <td>2025-01-12 19:00:00</td>\n",
       "      <td>6.30</td>\n",
       "      <td>0.0</td>\n",
       "      <td>2025-01-12</td>\n",
       "      <td>19</td>\n",
       "      <td>Barcelona</td>\n",
       "    </tr>\n",
       "    <tr>\n",
       "      <th>236</th>\n",
       "      <td>2025-01-12 20:00:00</td>\n",
       "      <td>5.60</td>\n",
       "      <td>0.0</td>\n",
       "      <td>2025-01-12</td>\n",
       "      <td>20</td>\n",
       "      <td>Barcelona</td>\n",
       "    </tr>\n",
       "    <tr>\n",
       "      <th>237</th>\n",
       "      <td>2025-01-12 21:00:00</td>\n",
       "      <td>4.95</td>\n",
       "      <td>0.0</td>\n",
       "      <td>2025-01-12</td>\n",
       "      <td>21</td>\n",
       "      <td>Barcelona</td>\n",
       "    </tr>\n",
       "    <tr>\n",
       "      <th>238</th>\n",
       "      <td>2025-01-12 22:00:00</td>\n",
       "      <td>4.25</td>\n",
       "      <td>0.0</td>\n",
       "      <td>2025-01-12</td>\n",
       "      <td>22</td>\n",
       "      <td>Barcelona</td>\n",
       "    </tr>\n",
       "    <tr>\n",
       "      <th>239</th>\n",
       "      <td>2025-01-12 23:00:00</td>\n",
       "      <td>3.60</td>\n",
       "      <td>0.0</td>\n",
       "      <td>2025-01-12</td>\n",
       "      <td>23</td>\n",
       "      <td>Barcelona</td>\n",
       "    </tr>\n",
       "  </tbody>\n",
       "</table>\n",
       "<p>240 rows × 6 columns</p>\n",
       "</div>"
      ],
      "text/plain": [
       "                   date  temperature  precipitation         day  time  \\\n",
       "0   2025-01-03 00:00:00         5.55            0.0  2025-01-03     0   \n",
       "1   2025-01-03 01:00:00         5.95            0.0  2025-01-03     1   \n",
       "2   2025-01-03 02:00:00         6.55            0.0  2025-01-03     2   \n",
       "3   2025-01-03 03:00:00         6.85            0.0  2025-01-03     3   \n",
       "4   2025-01-03 04:00:00         6.50            0.0  2025-01-03     4   \n",
       "..                  ...          ...            ...         ...   ...   \n",
       "235 2025-01-12 19:00:00         6.30            0.0  2025-01-12    19   \n",
       "236 2025-01-12 20:00:00         5.60            0.0  2025-01-12    20   \n",
       "237 2025-01-12 21:00:00         4.95            0.0  2025-01-12    21   \n",
       "238 2025-01-12 22:00:00         4.25            0.0  2025-01-12    22   \n",
       "239 2025-01-12 23:00:00         3.60            0.0  2025-01-12    23   \n",
       "\n",
       "          city  \n",
       "0    Barcelona  \n",
       "1    Barcelona  \n",
       "2    Barcelona  \n",
       "3    Barcelona  \n",
       "4    Barcelona  \n",
       "..         ...  \n",
       "235  Barcelona  \n",
       "236  Barcelona  \n",
       "237  Barcelona  \n",
       "238  Barcelona  \n",
       "239  Barcelona  \n",
       "\n",
       "[240 rows x 6 columns]"
      ]
     },
     "execution_count": 30,
     "metadata": {},
     "output_type": "execute_result"
    }
   ],
   "source": [
    "hourly_df = util.get_hourly_weather_forecast(city, latitude, longitude)\n",
    "\n",
    "#add a column with the\n",
    "hourly_df['day'] = hourly_df['date'].dt.strftime('%Y-%m-%d')\n",
    "# Create column 'time' with the hour\n",
    "hourly_df['time'] = hourly_df['date'].dt.strftime('%H')\n",
    "hourly_df['city'] = city\n",
    "# cast time to int\n",
    "hourly_df['time'] = hourly_df['time'].astype(int)\n",
    "hourly_df"
   ]
  },
  {
   "cell_type": "code",
   "execution_count": 31,
   "id": "4c563109",
   "metadata": {},
   "outputs": [
    {
     "name": "stdout",
     "output_type": "stream",
     "text": [
      "<class 'pandas.core.frame.DataFrame'>\n",
      "RangeIndex: 240 entries, 0 to 239\n",
      "Data columns (total 6 columns):\n",
      " #   Column         Non-Null Count  Dtype         \n",
      "---  ------         --------------  -----         \n",
      " 0   date           240 non-null    datetime64[ns]\n",
      " 1   temperature    240 non-null    float32       \n",
      " 2   precipitation  240 non-null    float32       \n",
      " 3   day            240 non-null    object        \n",
      " 4   time           240 non-null    int64         \n",
      " 5   city           240 non-null    object        \n",
      "dtypes: datetime64[ns](1), float32(2), int64(1), object(2)\n",
      "memory usage: 9.5+ KB\n"
     ]
    }
   ],
   "source": [
    "hourly_df.info()"
   ]
  },
  {
   "cell_type": "markdown",
   "id": "4e1f5008",
   "metadata": {
    "tags": []
   },
   "source": [
    "## <span style=\"color:#ff5f27;\">⬆️ Uploading new data to the Feature Store</span>"
   ]
  },
  {
   "cell_type": "code",
   "execution_count": 32,
   "id": "1a9de5ba",
   "metadata": {},
   "outputs": [
    {
     "name": "stderr",
     "output_type": "stream",
     "text": [
      "Uploading Dataframe: 100.00% |██████████| Rows 1/1 | Elapsed Time: 00:01 | Remaining Time: 00:00\n"
     ]
    },
    {
     "name": "stdout",
     "output_type": "stream",
     "text": [
      "Launching job: bikes_2_offline_fg_materialization\n",
      "Job started successfully, you can follow the progress at \n",
      "https://c.app.hopsworks.ai:443/p/1164440/jobs/named/bikes_2_offline_fg_materialization/executions\n"
     ]
    },
    {
     "data": {
      "text/plain": [
       "(Job('bikes_2_offline_fg_materialization', 'SPARK'), None)"
      ]
     },
     "execution_count": 32,
     "metadata": {},
     "output_type": "execute_result"
    }
   ],
   "source": [
    "# Insert new data\n",
    "bikes_fg.insert(bike_today_df)"
   ]
  },
  {
   "cell_type": "code",
   "execution_count": 33,
   "id": "d491b0a0",
   "metadata": {},
   "outputs": [
    {
     "name": "stderr",
     "output_type": "stream",
     "text": [
      "Uploading Dataframe: 100.00% |██████████| Rows 240/240 | Elapsed Time: 00:01 | Remaining Time: 00:00\n"
     ]
    },
    {
     "data": {
      "text/plain": [
       "(Job('weather_2_offline_fg_materialization', 'SPARK'), None)"
      ]
     },
     "execution_count": 33,
     "metadata": {},
     "output_type": "execute_result"
    }
   ],
   "source": [
    "# Insert new data\n",
    "weather_fg.insert(hourly_df)"
   ]
  },
  {
   "cell_type": "markdown",
   "id": "c83e9e2d",
   "metadata": {},
   "source": [
    "## <span style=\"color:#ff5f27;\">⏭️ **Next:** Part 03: Training Pipeline\n",
    " </span> \n",
    "\n",
    "In the following notebook you will read from a feature group and create training dataset within the feature store\n"
   ]
  }
 ],
 "metadata": {
  "kernelspec": {
   "display_name": "venv",
   "language": "python",
   "name": "python3"
  },
  "language_info": {
   "codemirror_mode": {
    "name": "ipython",
    "version": 3
   },
   "file_extension": ".py",
   "mimetype": "text/x-python",
   "name": "python",
   "nbconvert_exporter": "python",
   "pygments_lexer": "ipython3",
   "version": "3.11.5"
  }
 },
 "nbformat": 4,
 "nbformat_minor": 5
}
