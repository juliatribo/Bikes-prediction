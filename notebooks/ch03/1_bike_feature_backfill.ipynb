{
 "cells": [
  {
   "cell_type": "markdown",
   "id": "f139ba67",
   "metadata": {},
   "source": [
    "<span style=\"font-width:bold; font-size: 3rem; color:#333;\">- Part 01: Feature Backfill for Bikes prediciton</span>\n"
   ]
  },
  {
   "cell_type": "markdown",
   "id": "41d6a80c",
   "metadata": {},
   "source": [
    "### <span style='color:#ff5f27'> 📝 Imports"
   ]
  },
  {
   "cell_type": "code",
   "execution_count": 1,
   "id": "0f447120",
   "metadata": {},
   "outputs": [
    {
     "name": "stderr",
     "output_type": "stream",
     "text": [
      "/Users/juliatribocabre/Desktop/KTH/Courses/SCALABLE ML AND DEEP LEARNING/bikes-prediction/Bikes-prediction/venv/lib/python3.11/site-packages/tqdm/auto.py:21: TqdmWarning: IProgress not found. Please update jupyter and ipywidgets. See https://ipywidgets.readthedocs.io/en/stable/user_install.html\n",
      "  from .autonotebook import tqdm as notebook_tqdm\n",
      "FutureIncompatibilityWarning: \n",
      "\n",
      "This is a future version incompatibility warning from Holidays v0.63\n",
      "to inform you about an upcoming change in our API versioning strategy that may affect your\n",
      "project's dependencies. Starting from version 1.0 onwards, we will be following a loose form of\n",
      "Semantic Versioning (SemVer, https://semver.org) to provide clearer communication regarding any\n",
      "potential breaking changes.\n",
      "\n",
      "This means that while we strive to maintain backward compatibility, there might be occasional\n",
      "updates that introduce breaking changes to our API. To ensure the stability of your projects,\n",
      "we highly recommend pinning the version of our API that you rely on. You can pin your current\n",
      "holidays v0.x dependency (e.g., holidays==0.63) or limit it (e.g., holidays<1.0) in order to\n",
      "avoid potentially unwanted upgrade to the version 1.0 when it's released (ETA 2025Q1-Q2).\n",
      "\n",
      "If you have any questions or concerns regarding this change, please don't hesitate to reach out\n",
      "to us via https://github.com/vacanza/holidays/discussions/1800.\n",
      "\n"
     ]
    }
   ],
   "source": [
    "import datetime\n",
    "import requests\n",
    "import pandas as pd\n",
    "import hopsworks\n",
    "import datetime\n",
    "from pathlib import Path\n",
    "from functions import util\n",
    "import json\n",
    "import re\n",
    "import os\n",
    "import warnings\n",
    "import holidays\n",
    "warnings.filterwarnings(\"ignore\")"
   ]
  },
  {
   "cell_type": "markdown",
   "id": "50156f96",
   "metadata": {},
   "source": [
    "---"
   ]
  },
  {
   "cell_type": "code",
   "execution_count": 2,
   "id": "a51ece50-ffd8-442a-acc4-ee1d35518cbb",
   "metadata": {},
   "outputs": [
    {
     "name": "stdout",
     "output_type": "stream",
     "text": [
      "File successfully found at the path: ../../data/bikes_oct.csv\n"
     ]
    }
   ],
   "source": [
    "csv_file=\"../../data/bikes_oct.csv\"\n",
    "util.check_file_path(csv_file)"
   ]
  },
  {
   "cell_type": "code",
   "execution_count": 3,
   "id": "d58eda7c",
   "metadata": {},
   "outputs": [],
   "source": [
    "station_id =42\n",
    "\n",
    "bikes_url = 'https://opendata-ajuntament.barcelona.cat/data/dataset/estat-estacions-bicing/resource/1b215493-9e63-4a12-8980-2d7e0fa19f85/download/recurs.json'\n",
    "\n",
    "# Station 42 latitude and longitude\n",
    "latitude = \"41.404511\"\n",
    "longitude = \"2.189881\"\n",
    "city = \"Barcelona\"\n",
    "\n",
    "today = datetime.date.today()"
   ]
  },
  {
   "cell_type": "code",
   "execution_count": 4,
   "id": "6ea6ab4f-a2ab-4865-b215-78b1001265c7",
   "metadata": {},
   "outputs": [
    {
     "name": "stdout",
     "output_type": "stream",
     "text": [
      "File successfully found at the path: ../../data/bicing-api-key.txt\n"
     ]
    }
   ],
   "source": [
    "bicing_api_key_file = '../../data/bicing-api-key.txt'\n",
    "util.check_file_path(bicing_api_key_file)\n",
    "\n",
    "with open(bicing_api_key_file, 'r') as file:\n",
    "    BICING_API_KEY = file.read().rstrip()"
   ]
  },
  {
   "cell_type": "markdown",
   "id": "bd8b8d1a-62a5-4a1d-b805-6e83cafcd29f",
   "metadata": {},
   "source": [
    "## Hopsworks API Key\n",
    "You need to have registered an account on app.hopsworks.ai.\n",
    "You will be prompted to enter your API key here, unless you set it as the environment variable HOPSWORKS_API_KEY (my preffered approach)."
   ]
  },
  {
   "cell_type": "code",
   "execution_count": 5,
   "id": "9f1a49d6-9cd2-4246-b0ca-1058672e4848",
   "metadata": {},
   "outputs": [
    {
     "name": "stdout",
     "output_type": "stream",
     "text": [
      "2025-01-07 09:59:33,128 INFO: Initializing external client\n",
      "2025-01-07 09:59:33,129 INFO: Base URL: https://c.app.hopsworks.ai:443\n",
      "2025-01-07 09:59:34,372 INFO: Python Engine initialized.\n",
      "\n",
      "Logged in to project, explore it here https://c.app.hopsworks.ai:443/p/1164440\n"
     ]
    }
   ],
   "source": [
    "with open('../../data/hopsworks-api-key.txt', 'r') as file:\n",
    "    os.environ[\"HOPSWORKS_API_KEY\"] = file.read().rstrip()\n",
    "    \n",
    "project = hopsworks.login(project=\"juls_first_project\")"
   ]
  },
  {
   "cell_type": "code",
   "execution_count": 6,
   "id": "9145f0b7-d961-41f7-aebe-741dbf00784c",
   "metadata": {},
   "outputs": [],
   "source": [
    "secrets = hopsworks.get_secrets_api()\n",
    "try:\n",
    "    secrets.create_secret(\"BICING_API_KEY\", BICING_API_KEY)\n",
    "except hopsworks.RestAPIError:\n",
    "    BICING_API_KEY = secrets.get_secret(\"BICING_API_KEY\").value"
   ]
  },
  {
   "cell_type": "code",
   "execution_count": 7,
   "id": "786127b0-c4e5-4a5f-a6fa-4cce903a9c77",
   "metadata": {},
   "outputs": [
    {
     "data": {
      "text/html": [
       "<div>\n",
       "<style scoped>\n",
       "    .dataframe tbody tr th:only-of-type {\n",
       "        vertical-align: middle;\n",
       "    }\n",
       "\n",
       "    .dataframe tbody tr th {\n",
       "        vertical-align: top;\n",
       "    }\n",
       "\n",
       "    .dataframe thead th {\n",
       "        text-align: right;\n",
       "    }\n",
       "</style>\n",
       "<table border=\"1\" class=\"dataframe\">\n",
       "  <thead>\n",
       "    <tr style=\"text-align: right;\">\n",
       "      <th></th>\n",
       "      <th>station_id</th>\n",
       "      <th>num_bikes_available</th>\n",
       "      <th>last_reported</th>\n",
       "    </tr>\n",
       "  </thead>\n",
       "  <tbody>\n",
       "    <tr>\n",
       "      <th>0</th>\n",
       "      <td>42</td>\n",
       "      <td>15</td>\n",
       "      <td>2025-01-07 08:58:33+00:00</td>\n",
       "    </tr>\n",
       "  </tbody>\n",
       "</table>\n",
       "</div>"
      ],
      "text/plain": [
       "   station_id  num_bikes_available             last_reported\n",
       "0          42                   15 2025-01-07 08:58:33+00:00"
      ]
     },
     "execution_count": 7,
     "metadata": {},
     "output_type": "execute_result"
    }
   ],
   "source": [
    "try:\n",
    "    bikes_now_df = util.fetch_station_data(bikes_url, BICING_API_KEY, station_id)\n",
    "except hopsworks.RestAPIError:\n",
    "    print(\"It looks like the BICING_API_KEY doesn't work. Is the API key correct? Is the URL correct?\")\n",
    "bikes_now_df.head()"
   ]
  },
  {
   "cell_type": "markdown",
   "id": "c706e751",
   "metadata": {},
   "source": [
    "## <span style='color:#ff5f27'> Read your CSV file into a DataFrame </span>\n",
    "\n",
    "The cell below will read up historical bikes availability data as a CSV file into a Pandas DataFrame"
   ]
  },
  {
   "cell_type": "code",
   "execution_count": 8,
   "id": "bc3a1212",
   "metadata": {
    "tags": []
   },
   "outputs": [
    {
     "data": {
      "text/html": [
       "<div>\n",
       "<style scoped>\n",
       "    .dataframe tbody tr th:only-of-type {\n",
       "        vertical-align: middle;\n",
       "    }\n",
       "\n",
       "    .dataframe tbody tr th {\n",
       "        vertical-align: top;\n",
       "    }\n",
       "\n",
       "    .dataframe thead th {\n",
       "        text-align: right;\n",
       "    }\n",
       "</style>\n",
       "<table border=\"1\" class=\"dataframe\">\n",
       "  <thead>\n",
       "    <tr style=\"text-align: right;\">\n",
       "      <th></th>\n",
       "      <th>station_id</th>\n",
       "      <th>num_bikes_available</th>\n",
       "      <th>num_bikes_available_types.mechanical</th>\n",
       "      <th>num_bikes_available_types.ebike</th>\n",
       "      <th>num_docks_available</th>\n",
       "      <th>last_reported</th>\n",
       "      <th>is_charging_station</th>\n",
       "      <th>status</th>\n",
       "      <th>is_installed</th>\n",
       "      <th>is_renting</th>\n",
       "      <th>is_returning</th>\n",
       "      <th>traffic</th>\n",
       "      <th>last_updated</th>\n",
       "      <th>ttl</th>\n",
       "      <th>V1</th>\n",
       "    </tr>\n",
       "  </thead>\n",
       "  <tbody>\n",
       "    <tr>\n",
       "      <th>39</th>\n",
       "      <td>42.0</td>\n",
       "      <td>1.0</td>\n",
       "      <td>0.0</td>\n",
       "      <td>1.0</td>\n",
       "      <td>21.0</td>\n",
       "      <td>1.727733e+09</td>\n",
       "      <td>True</td>\n",
       "      <td>IN_SERVICE</td>\n",
       "      <td>1.0</td>\n",
       "      <td>1.0</td>\n",
       "      <td>1.0</td>\n",
       "      <td>NaN</td>\n",
       "      <td>1727733600</td>\n",
       "      <td>0.0</td>\n",
       "      <td>NaN</td>\n",
       "    </tr>\n",
       "    <tr>\n",
       "      <th>552</th>\n",
       "      <td>42.0</td>\n",
       "      <td>0.0</td>\n",
       "      <td>0.0</td>\n",
       "      <td>0.0</td>\n",
       "      <td>22.0</td>\n",
       "      <td>1.727734e+09</td>\n",
       "      <td>True</td>\n",
       "      <td>IN_SERVICE</td>\n",
       "      <td>1.0</td>\n",
       "      <td>1.0</td>\n",
       "      <td>1.0</td>\n",
       "      <td>NaN</td>\n",
       "      <td>1727733901</td>\n",
       "      <td>0.0</td>\n",
       "      <td>NaN</td>\n",
       "    </tr>\n",
       "    <tr>\n",
       "      <th>1064</th>\n",
       "      <td>42.0</td>\n",
       "      <td>0.0</td>\n",
       "      <td>0.0</td>\n",
       "      <td>0.0</td>\n",
       "      <td>22.0</td>\n",
       "      <td>1.727734e+09</td>\n",
       "      <td>True</td>\n",
       "      <td>IN_SERVICE</td>\n",
       "      <td>1.0</td>\n",
       "      <td>1.0</td>\n",
       "      <td>1.0</td>\n",
       "      <td>NaN</td>\n",
       "      <td>1727734198</td>\n",
       "      <td>0.0</td>\n",
       "      <td>NaN</td>\n",
       "    </tr>\n",
       "    <tr>\n",
       "      <th>1576</th>\n",
       "      <td>42.0</td>\n",
       "      <td>0.0</td>\n",
       "      <td>0.0</td>\n",
       "      <td>0.0</td>\n",
       "      <td>22.0</td>\n",
       "      <td>1.727734e+09</td>\n",
       "      <td>True</td>\n",
       "      <td>IN_SERVICE</td>\n",
       "      <td>1.0</td>\n",
       "      <td>1.0</td>\n",
       "      <td>1.0</td>\n",
       "      <td>NaN</td>\n",
       "      <td>1727734501</td>\n",
       "      <td>0.0</td>\n",
       "      <td>NaN</td>\n",
       "    </tr>\n",
       "    <tr>\n",
       "      <th>2088</th>\n",
       "      <td>42.0</td>\n",
       "      <td>0.0</td>\n",
       "      <td>0.0</td>\n",
       "      <td>0.0</td>\n",
       "      <td>22.0</td>\n",
       "      <td>1.727735e+09</td>\n",
       "      <td>True</td>\n",
       "      <td>IN_SERVICE</td>\n",
       "      <td>1.0</td>\n",
       "      <td>1.0</td>\n",
       "      <td>1.0</td>\n",
       "      <td>NaN</td>\n",
       "      <td>1727734804</td>\n",
       "      <td>0.0</td>\n",
       "      <td>NaN</td>\n",
       "    </tr>\n",
       "  </tbody>\n",
       "</table>\n",
       "</div>"
      ],
      "text/plain": [
       "      station_id  num_bikes_available  num_bikes_available_types.mechanical  \\\n",
       "39          42.0                  1.0                                   0.0   \n",
       "552         42.0                  0.0                                   0.0   \n",
       "1064        42.0                  0.0                                   0.0   \n",
       "1576        42.0                  0.0                                   0.0   \n",
       "2088        42.0                  0.0                                   0.0   \n",
       "\n",
       "      num_bikes_available_types.ebike  num_docks_available  last_reported  \\\n",
       "39                                1.0                 21.0   1.727733e+09   \n",
       "552                               0.0                 22.0   1.727734e+09   \n",
       "1064                              0.0                 22.0   1.727734e+09   \n",
       "1576                              0.0                 22.0   1.727734e+09   \n",
       "2088                              0.0                 22.0   1.727735e+09   \n",
       "\n",
       "     is_charging_station      status  is_installed  is_renting  is_returning  \\\n",
       "39                  True  IN_SERVICE           1.0         1.0           1.0   \n",
       "552                 True  IN_SERVICE           1.0         1.0           1.0   \n",
       "1064                True  IN_SERVICE           1.0         1.0           1.0   \n",
       "1576                True  IN_SERVICE           1.0         1.0           1.0   \n",
       "2088                True  IN_SERVICE           1.0         1.0           1.0   \n",
       "\n",
       "      traffic last_updated  ttl  V1  \n",
       "39        NaN   1727733600  0.0 NaN  \n",
       "552       NaN   1727733901  0.0 NaN  \n",
       "1064      NaN   1727734198  0.0 NaN  \n",
       "1576      NaN   1727734501  0.0 NaN  \n",
       "2088      NaN   1727734804  0.0 NaN  "
      ]
     },
     "execution_count": 8,
     "metadata": {},
     "output_type": "execute_result"
    }
   ],
   "source": [
    "#get only the station_id=42 from the csv file\n",
    "df = pd.read_csv(csv_file,  parse_dates=['last_updated'] , skipinitialspace=True)\n",
    "df = df[df['station_id'] == station_id]\n",
    "df.head()"
   ]
  },
  {
   "cell_type": "markdown",
   "id": "8812eb37-04e3-4291-8d77-a69ef7a195bc",
   "metadata": {},
   "source": [
    "## <span style='color:#ff5f27'> Data cleaning</span>"
   ]
  },
  {
   "cell_type": "markdown",
   "id": "47dcfa73",
   "metadata": {},
   "source": [
    "## Check the data types for the columns in the DataFrame"
   ]
  },
  {
   "cell_type": "code",
   "execution_count": null,
   "id": "fd20c859-ef3c-4b54-bbcb-83898afefa79",
   "metadata": {},
   "outputs": [
    {
     "data": {
      "text/html": [
       "<div>\n",
       "<style scoped>\n",
       "    .dataframe tbody tr th:only-of-type {\n",
       "        vertical-align: middle;\n",
       "    }\n",
       "\n",
       "    .dataframe tbody tr th {\n",
       "        vertical-align: top;\n",
       "    }\n",
       "\n",
       "    .dataframe thead th {\n",
       "        text-align: right;\n",
       "    }\n",
       "</style>\n",
       "<table border=\"1\" class=\"dataframe\">\n",
       "  <thead>\n",
       "    <tr style=\"text-align: right;\">\n",
       "      <th></th>\n",
       "      <th>day</th>\n",
       "      <th>time</th>\n",
       "      <th>num_bikes_available</th>\n",
       "      <th>date</th>\n",
       "      <th>is_weekend</th>\n",
       "      <th>is_holiday</th>\n",
       "      <th>prev_num_bikes_available</th>\n",
       "    </tr>\n",
       "  </thead>\n",
       "  <tbody>\n",
       "    <tr>\n",
       "      <th>0</th>\n",
       "      <td>2024-09-30</td>\n",
       "      <td>22</td>\n",
       "      <td>0.250000</td>\n",
       "      <td>2024-09-30 22:00:00</td>\n",
       "      <td>False</td>\n",
       "      <td>False</td>\n",
       "      <td>NaN</td>\n",
       "    </tr>\n",
       "    <tr>\n",
       "      <th>1</th>\n",
       "      <td>2024-09-30</td>\n",
       "      <td>23</td>\n",
       "      <td>0.333333</td>\n",
       "      <td>2024-09-30 23:00:00</td>\n",
       "      <td>False</td>\n",
       "      <td>False</td>\n",
       "      <td>0.250000</td>\n",
       "    </tr>\n",
       "    <tr>\n",
       "      <th>2</th>\n",
       "      <td>2024-10-01</td>\n",
       "      <td>0</td>\n",
       "      <td>1.230769</td>\n",
       "      <td>2024-10-01 00:00:00</td>\n",
       "      <td>False</td>\n",
       "      <td>False</td>\n",
       "      <td>0.333333</td>\n",
       "    </tr>\n",
       "    <tr>\n",
       "      <th>3</th>\n",
       "      <td>2024-10-01</td>\n",
       "      <td>1</td>\n",
       "      <td>1.333333</td>\n",
       "      <td>2024-10-01 01:00:00</td>\n",
       "      <td>False</td>\n",
       "      <td>False</td>\n",
       "      <td>1.230769</td>\n",
       "    </tr>\n",
       "    <tr>\n",
       "      <th>4</th>\n",
       "      <td>2024-10-01</td>\n",
       "      <td>2</td>\n",
       "      <td>1.166667</td>\n",
       "      <td>2024-10-01 02:00:00</td>\n",
       "      <td>False</td>\n",
       "      <td>False</td>\n",
       "      <td>1.333333</td>\n",
       "    </tr>\n",
       "    <tr>\n",
       "      <th>...</th>\n",
       "      <td>...</td>\n",
       "      <td>...</td>\n",
       "      <td>...</td>\n",
       "      <td>...</td>\n",
       "      <td>...</td>\n",
       "      <td>...</td>\n",
       "      <td>...</td>\n",
       "    </tr>\n",
       "    <tr>\n",
       "      <th>718</th>\n",
       "      <td>2024-10-31</td>\n",
       "      <td>19</td>\n",
       "      <td>19.818182</td>\n",
       "      <td>2024-10-31 19:00:00</td>\n",
       "      <td>False</td>\n",
       "      <td>False</td>\n",
       "      <td>18.750000</td>\n",
       "    </tr>\n",
       "    <tr>\n",
       "      <th>719</th>\n",
       "      <td>2024-10-31</td>\n",
       "      <td>20</td>\n",
       "      <td>18.583333</td>\n",
       "      <td>2024-10-31 20:00:00</td>\n",
       "      <td>False</td>\n",
       "      <td>False</td>\n",
       "      <td>19.818182</td>\n",
       "    </tr>\n",
       "    <tr>\n",
       "      <th>720</th>\n",
       "      <td>2024-10-31</td>\n",
       "      <td>21</td>\n",
       "      <td>15.833333</td>\n",
       "      <td>2024-10-31 21:00:00</td>\n",
       "      <td>False</td>\n",
       "      <td>False</td>\n",
       "      <td>18.583333</td>\n",
       "    </tr>\n",
       "    <tr>\n",
       "      <th>721</th>\n",
       "      <td>2024-10-31</td>\n",
       "      <td>22</td>\n",
       "      <td>18.166667</td>\n",
       "      <td>2024-10-31 22:00:00</td>\n",
       "      <td>False</td>\n",
       "      <td>False</td>\n",
       "      <td>15.833333</td>\n",
       "    </tr>\n",
       "    <tr>\n",
       "      <th>722</th>\n",
       "      <td>2024-10-31</td>\n",
       "      <td>23</td>\n",
       "      <td>19.250000</td>\n",
       "      <td>2024-10-31 23:00:00</td>\n",
       "      <td>False</td>\n",
       "      <td>False</td>\n",
       "      <td>18.166667</td>\n",
       "    </tr>\n",
       "  </tbody>\n",
       "</table>\n",
       "<p>723 rows × 7 columns</p>\n",
       "</div>"
      ],
      "text/plain": [
       "            day  time  num_bikes_available                date  is_weekend  \\\n",
       "0    2024-09-30    22             0.250000 2024-09-30 22:00:00       False   \n",
       "1    2024-09-30    23             0.333333 2024-09-30 23:00:00       False   \n",
       "2    2024-10-01     0             1.230769 2024-10-01 00:00:00       False   \n",
       "3    2024-10-01     1             1.333333 2024-10-01 01:00:00       False   \n",
       "4    2024-10-01     2             1.166667 2024-10-01 02:00:00       False   \n",
       "..          ...   ...                  ...                 ...         ...   \n",
       "718  2024-10-31    19            19.818182 2024-10-31 19:00:00       False   \n",
       "719  2024-10-31    20            18.583333 2024-10-31 20:00:00       False   \n",
       "720  2024-10-31    21            15.833333 2024-10-31 21:00:00       False   \n",
       "721  2024-10-31    22            18.166667 2024-10-31 22:00:00       False   \n",
       "722  2024-10-31    23            19.250000 2024-10-31 23:00:00       False   \n",
       "\n",
       "     is_holiday  prev_num_bikes_available  \n",
       "0         False                       NaN  \n",
       "1         False                  0.250000  \n",
       "2         False                  0.333333  \n",
       "3         False                  1.230769  \n",
       "4         False                  1.333333  \n",
       "..          ...                       ...  \n",
       "718       False                 18.750000  \n",
       "719       False                 19.818182  \n",
       "720       False                 18.583333  \n",
       "721       False                 15.833333  \n",
       "722       False                 18.166667  \n",
       "\n",
       "[723 rows x 7 columns]"
      ]
     },
     "execution_count": 9,
     "metadata": {},
     "output_type": "execute_result"
    }
   ],
   "source": [
    "station_df = df[['last_updated', 'num_bikes_available']]\n",
    "station_df['last_updated'] = pd.to_datetime(\n",
    "    station_df['last_updated'], unit='s', utc=True, errors='coerce'\n",
    ")\n",
    "\n",
    "# Crear columna 'date' con la fecha\n",
    "station_df['day'] = station_df['last_updated'].dt.strftime('%Y-%m-%d')\n",
    "# Crear columna 'time' con la hora\n",
    "station_df['time'] = station_df['last_updated'].dt.strftime('%H')\n",
    "station_df = station_df.rename(columns={\"last_updated\": \"date\"})\n",
    "hourly_avg_df = station_df.groupby(['day', 'time']).mean([\"num_bikes_available\"]).reset_index()\n",
    "\n",
    "## Add a column date with the date based on the columns day and time, type datetime\n",
    "hourly_avg_df['date'] = hourly_avg_df['day'] + ' ' + hourly_avg_df['time'] + ':00:00'\n",
    "hourly_avg_df['date'] = pd.to_datetime(hourly_avg_df['date'], format='%Y-%m-%d %H:%M:%S')\n",
    "\n",
    "## Adding a new boolean column if the date is weekend or not\n",
    "hourly_avg_df['is_weekend'] = hourly_avg_df['date'].dt.dayofweek > 4\n",
    "## Adding a new boolean column if the date is holiday or not\n",
    "holidays_es = holidays.Spain()\n",
    "hourly_avg_df['is_holiday'] = hourly_avg_df['date'].dt.date.astype(str).map(lambda x: x in holidays_es)\n",
    "\n",
    "#convert the time to int\n",
    "hourly_avg_df['time'] = hourly_avg_df['time'].astype(int)\n",
    "# Get the column with date 2024\n",
    "# add a column with the previous num available bikes\n",
    "hourly_avg_df['prev_num_bikes_available'] = hourly_avg_df['num_bikes_available'].shift(1)\n",
    "hourly_avg_df"
   ]
  },
  {
   "cell_type": "code",
   "execution_count": null,
   "id": "1f13a19d",
   "metadata": {},
   "outputs": [
    {
     "name": "stdout",
     "output_type": "stream",
     "text": [
      "<class 'pandas.core.frame.DataFrame'>\n",
      "RangeIndex: 723 entries, 0 to 722\n",
      "Data columns (total 7 columns):\n",
      " #   Column                    Non-Null Count  Dtype         \n",
      "---  ------                    --------------  -----         \n",
      " 0   day                       723 non-null    object        \n",
      " 1   time                      723 non-null    int64         \n",
      " 2   num_bikes_available       723 non-null    float64       \n",
      " 3   date                      723 non-null    datetime64[ns]\n",
      " 4   is_weekend                723 non-null    bool          \n",
      " 5   is_holiday                723 non-null    bool          \n",
      " 6   prev_num_bikes_available  722 non-null    float64       \n",
      "dtypes: bool(2), datetime64[ns](1), float64(2), int64(1), object(1)\n",
      "memory usage: 29.8+ KB\n"
     ]
    }
   ],
   "source": [
    "hourly_avg_df.info()"
   ]
  },
  {
   "cell_type": "markdown",
   "id": "19911f73",
   "metadata": {},
   "source": [
    "## <span style='color:#ff5f27'> Drop any rows with missing data </span>\n",
    "It will make the model training easier if there is no missing data in the rows, so we drop any rows with missing data."
   ]
  },
  {
   "cell_type": "code",
   "execution_count": 11,
   "id": "37b0a762",
   "metadata": {},
   "outputs": [
    {
     "data": {
      "text/html": [
       "<div>\n",
       "<style scoped>\n",
       "    .dataframe tbody tr th:only-of-type {\n",
       "        vertical-align: middle;\n",
       "    }\n",
       "\n",
       "    .dataframe tbody tr th {\n",
       "        vertical-align: top;\n",
       "    }\n",
       "\n",
       "    .dataframe thead th {\n",
       "        text-align: right;\n",
       "    }\n",
       "</style>\n",
       "<table border=\"1\" class=\"dataframe\">\n",
       "  <thead>\n",
       "    <tr style=\"text-align: right;\">\n",
       "      <th></th>\n",
       "      <th>day</th>\n",
       "      <th>time</th>\n",
       "      <th>num_bikes_available</th>\n",
       "      <th>date</th>\n",
       "      <th>is_weekend</th>\n",
       "      <th>is_holiday</th>\n",
       "      <th>prev_num_bikes_available</th>\n",
       "    </tr>\n",
       "  </thead>\n",
       "  <tbody>\n",
       "    <tr>\n",
       "      <th>1</th>\n",
       "      <td>2024-09-30</td>\n",
       "      <td>23</td>\n",
       "      <td>0.333333</td>\n",
       "      <td>2024-09-30 23:00:00</td>\n",
       "      <td>False</td>\n",
       "      <td>False</td>\n",
       "      <td>0.250000</td>\n",
       "    </tr>\n",
       "    <tr>\n",
       "      <th>2</th>\n",
       "      <td>2024-10-01</td>\n",
       "      <td>0</td>\n",
       "      <td>1.230769</td>\n",
       "      <td>2024-10-01 00:00:00</td>\n",
       "      <td>False</td>\n",
       "      <td>False</td>\n",
       "      <td>0.333333</td>\n",
       "    </tr>\n",
       "    <tr>\n",
       "      <th>3</th>\n",
       "      <td>2024-10-01</td>\n",
       "      <td>1</td>\n",
       "      <td>1.333333</td>\n",
       "      <td>2024-10-01 01:00:00</td>\n",
       "      <td>False</td>\n",
       "      <td>False</td>\n",
       "      <td>1.230769</td>\n",
       "    </tr>\n",
       "    <tr>\n",
       "      <th>4</th>\n",
       "      <td>2024-10-01</td>\n",
       "      <td>2</td>\n",
       "      <td>1.166667</td>\n",
       "      <td>2024-10-01 02:00:00</td>\n",
       "      <td>False</td>\n",
       "      <td>False</td>\n",
       "      <td>1.333333</td>\n",
       "    </tr>\n",
       "    <tr>\n",
       "      <th>5</th>\n",
       "      <td>2024-10-01</td>\n",
       "      <td>3</td>\n",
       "      <td>4.181818</td>\n",
       "      <td>2024-10-01 03:00:00</td>\n",
       "      <td>False</td>\n",
       "      <td>False</td>\n",
       "      <td>1.166667</td>\n",
       "    </tr>\n",
       "    <tr>\n",
       "      <th>...</th>\n",
       "      <td>...</td>\n",
       "      <td>...</td>\n",
       "      <td>...</td>\n",
       "      <td>...</td>\n",
       "      <td>...</td>\n",
       "      <td>...</td>\n",
       "      <td>...</td>\n",
       "    </tr>\n",
       "    <tr>\n",
       "      <th>718</th>\n",
       "      <td>2024-10-31</td>\n",
       "      <td>19</td>\n",
       "      <td>19.818182</td>\n",
       "      <td>2024-10-31 19:00:00</td>\n",
       "      <td>False</td>\n",
       "      <td>False</td>\n",
       "      <td>18.750000</td>\n",
       "    </tr>\n",
       "    <tr>\n",
       "      <th>719</th>\n",
       "      <td>2024-10-31</td>\n",
       "      <td>20</td>\n",
       "      <td>18.583333</td>\n",
       "      <td>2024-10-31 20:00:00</td>\n",
       "      <td>False</td>\n",
       "      <td>False</td>\n",
       "      <td>19.818182</td>\n",
       "    </tr>\n",
       "    <tr>\n",
       "      <th>720</th>\n",
       "      <td>2024-10-31</td>\n",
       "      <td>21</td>\n",
       "      <td>15.833333</td>\n",
       "      <td>2024-10-31 21:00:00</td>\n",
       "      <td>False</td>\n",
       "      <td>False</td>\n",
       "      <td>18.583333</td>\n",
       "    </tr>\n",
       "    <tr>\n",
       "      <th>721</th>\n",
       "      <td>2024-10-31</td>\n",
       "      <td>22</td>\n",
       "      <td>18.166667</td>\n",
       "      <td>2024-10-31 22:00:00</td>\n",
       "      <td>False</td>\n",
       "      <td>False</td>\n",
       "      <td>15.833333</td>\n",
       "    </tr>\n",
       "    <tr>\n",
       "      <th>722</th>\n",
       "      <td>2024-10-31</td>\n",
       "      <td>23</td>\n",
       "      <td>19.250000</td>\n",
       "      <td>2024-10-31 23:00:00</td>\n",
       "      <td>False</td>\n",
       "      <td>False</td>\n",
       "      <td>18.166667</td>\n",
       "    </tr>\n",
       "  </tbody>\n",
       "</table>\n",
       "<p>722 rows × 7 columns</p>\n",
       "</div>"
      ],
      "text/plain": [
       "            day  time  num_bikes_available                date  is_weekend  \\\n",
       "1    2024-09-30    23             0.333333 2024-09-30 23:00:00       False   \n",
       "2    2024-10-01     0             1.230769 2024-10-01 00:00:00       False   \n",
       "3    2024-10-01     1             1.333333 2024-10-01 01:00:00       False   \n",
       "4    2024-10-01     2             1.166667 2024-10-01 02:00:00       False   \n",
       "5    2024-10-01     3             4.181818 2024-10-01 03:00:00       False   \n",
       "..          ...   ...                  ...                 ...         ...   \n",
       "718  2024-10-31    19            19.818182 2024-10-31 19:00:00       False   \n",
       "719  2024-10-31    20            18.583333 2024-10-31 20:00:00       False   \n",
       "720  2024-10-31    21            15.833333 2024-10-31 21:00:00       False   \n",
       "721  2024-10-31    22            18.166667 2024-10-31 22:00:00       False   \n",
       "722  2024-10-31    23            19.250000 2024-10-31 23:00:00       False   \n",
       "\n",
       "     is_holiday  prev_num_bikes_available  \n",
       "1         False                  0.250000  \n",
       "2         False                  0.333333  \n",
       "3         False                  1.230769  \n",
       "4         False                  1.333333  \n",
       "5         False                  1.166667  \n",
       "..          ...                       ...  \n",
       "718       False                 18.750000  \n",
       "719       False                 19.818182  \n",
       "720       False                 18.583333  \n",
       "721       False                 15.833333  \n",
       "722       False                 18.166667  \n",
       "\n",
       "[722 rows x 7 columns]"
      ]
     },
     "execution_count": 11,
     "metadata": {},
     "output_type": "execute_result"
    }
   ],
   "source": [
    "hourly_avg_df.dropna(inplace=True)\n",
    "hourly_avg_df"
   ]
  },
  {
   "cell_type": "markdown",
   "id": "000e8276",
   "metadata": {},
   "source": [
    "---"
   ]
  },
  {
   "cell_type": "markdown",
   "id": "055befa2",
   "metadata": {
    "tags": []
   },
   "source": [
    "## <span style='color:#ff5f27'> 🌦 Loading Weather Data from [Open Meteo](https://open-meteo.com/en/docs)"
   ]
  },
  {
   "cell_type": "markdown",
   "id": "78686a28",
   "metadata": {},
   "source": [
    "## <span style='color:#ff5f27'> Download the Historical Weather Data </span>\n",
    "\n",
    "https://open-meteo.com/en/docs/historical-weather-api#hourly=&daily=temperature_2m_mean,precipitation_sum,wind_speed_10m_max,wind_direction_10m_dominant\n",
    "\n",
    "We will download the historical weather data for your `city` from the Open Meteo API.\n",
    "The weather features we will download are:\n",
    "\n",
    " * `temperature (average over the hour)`\n",
    " * `precipitation (the total over the hour)`\n"
   ]
  },
  {
   "cell_type": "code",
   "execution_count": 12,
   "id": "96d604b3",
   "metadata": {},
   "outputs": [
    {
     "name": "stdout",
     "output_type": "stream",
     "text": [
      "Coordinates 41.37082290649414°N 2.068965435028076°E\n",
      "Elevation 13.0 m asl\n",
      "Timezone None None\n",
      "Timezone difference to GMT+0 0 s\n"
     ]
    },
    {
     "data": {
      "text/html": [
       "<div>\n",
       "<style scoped>\n",
       "    .dataframe tbody tr th:only-of-type {\n",
       "        vertical-align: middle;\n",
       "    }\n",
       "\n",
       "    .dataframe tbody tr th {\n",
       "        vertical-align: top;\n",
       "    }\n",
       "\n",
       "    .dataframe thead th {\n",
       "        text-align: right;\n",
       "    }\n",
       "</style>\n",
       "<table border=\"1\" class=\"dataframe\">\n",
       "  <thead>\n",
       "    <tr style=\"text-align: right;\">\n",
       "      <th></th>\n",
       "      <th>date</th>\n",
       "      <th>precipitation</th>\n",
       "      <th>temperature</th>\n",
       "      <th>city</th>\n",
       "      <th>time</th>\n",
       "      <th>day</th>\n",
       "    </tr>\n",
       "  </thead>\n",
       "  <tbody>\n",
       "    <tr>\n",
       "      <th>0</th>\n",
       "      <td>2024-09-30 00:00:00+00:00</td>\n",
       "      <td>0.0</td>\n",
       "      <td>15.441501</td>\n",
       "      <td>Barcelona</td>\n",
       "      <td>0</td>\n",
       "      <td>2024-09-30</td>\n",
       "    </tr>\n",
       "    <tr>\n",
       "      <th>1</th>\n",
       "      <td>2024-09-30 01:00:00+00:00</td>\n",
       "      <td>0.0</td>\n",
       "      <td>15.791500</td>\n",
       "      <td>Barcelona</td>\n",
       "      <td>1</td>\n",
       "      <td>2024-09-30</td>\n",
       "    </tr>\n",
       "    <tr>\n",
       "      <th>2</th>\n",
       "      <td>2024-09-30 02:00:00+00:00</td>\n",
       "      <td>0.0</td>\n",
       "      <td>15.791500</td>\n",
       "      <td>Barcelona</td>\n",
       "      <td>2</td>\n",
       "      <td>2024-09-30</td>\n",
       "    </tr>\n",
       "    <tr>\n",
       "      <th>3</th>\n",
       "      <td>2024-09-30 03:00:00+00:00</td>\n",
       "      <td>0.0</td>\n",
       "      <td>15.641500</td>\n",
       "      <td>Barcelona</td>\n",
       "      <td>3</td>\n",
       "      <td>2024-09-30</td>\n",
       "    </tr>\n",
       "    <tr>\n",
       "      <th>4</th>\n",
       "      <td>2024-09-30 04:00:00+00:00</td>\n",
       "      <td>0.0</td>\n",
       "      <td>15.291500</td>\n",
       "      <td>Barcelona</td>\n",
       "      <td>4</td>\n",
       "      <td>2024-09-30</td>\n",
       "    </tr>\n",
       "    <tr>\n",
       "      <th>...</th>\n",
       "      <td>...</td>\n",
       "      <td>...</td>\n",
       "      <td>...</td>\n",
       "      <td>...</td>\n",
       "      <td>...</td>\n",
       "      <td>...</td>\n",
       "    </tr>\n",
       "    <tr>\n",
       "      <th>2348</th>\n",
       "      <td>2025-01-05 20:00:00+00:00</td>\n",
       "      <td>0.0</td>\n",
       "      <td>9.741500</td>\n",
       "      <td>Barcelona</td>\n",
       "      <td>20</td>\n",
       "      <td>2025-01-05</td>\n",
       "    </tr>\n",
       "    <tr>\n",
       "      <th>2349</th>\n",
       "      <td>2025-01-05 21:00:00+00:00</td>\n",
       "      <td>0.0</td>\n",
       "      <td>8.941501</td>\n",
       "      <td>Barcelona</td>\n",
       "      <td>21</td>\n",
       "      <td>2025-01-05</td>\n",
       "    </tr>\n",
       "    <tr>\n",
       "      <th>2350</th>\n",
       "      <td>2025-01-05 22:00:00+00:00</td>\n",
       "      <td>0.0</td>\n",
       "      <td>8.341500</td>\n",
       "      <td>Barcelona</td>\n",
       "      <td>22</td>\n",
       "      <td>2025-01-05</td>\n",
       "    </tr>\n",
       "    <tr>\n",
       "      <th>2351</th>\n",
       "      <td>2025-01-05 23:00:00+00:00</td>\n",
       "      <td>0.0</td>\n",
       "      <td>7.991500</td>\n",
       "      <td>Barcelona</td>\n",
       "      <td>23</td>\n",
       "      <td>2025-01-05</td>\n",
       "    </tr>\n",
       "    <tr>\n",
       "      <th>2352</th>\n",
       "      <td>2025-01-06 00:00:00+00:00</td>\n",
       "      <td>0.0</td>\n",
       "      <td>7.991500</td>\n",
       "      <td>Barcelona</td>\n",
       "      <td>0</td>\n",
       "      <td>2025-01-06</td>\n",
       "    </tr>\n",
       "  </tbody>\n",
       "</table>\n",
       "<p>2353 rows × 6 columns</p>\n",
       "</div>"
      ],
      "text/plain": [
       "                          date  precipitation  temperature       city  time  \\\n",
       "0    2024-09-30 00:00:00+00:00            0.0    15.441501  Barcelona     0   \n",
       "1    2024-09-30 01:00:00+00:00            0.0    15.791500  Barcelona     1   \n",
       "2    2024-09-30 02:00:00+00:00            0.0    15.791500  Barcelona     2   \n",
       "3    2024-09-30 03:00:00+00:00            0.0    15.641500  Barcelona     3   \n",
       "4    2024-09-30 04:00:00+00:00            0.0    15.291500  Barcelona     4   \n",
       "...                        ...            ...          ...        ...   ...   \n",
       "2348 2025-01-05 20:00:00+00:00            0.0     9.741500  Barcelona    20   \n",
       "2349 2025-01-05 21:00:00+00:00            0.0     8.941501  Barcelona    21   \n",
       "2350 2025-01-05 22:00:00+00:00            0.0     8.341500  Barcelona    22   \n",
       "2351 2025-01-05 23:00:00+00:00            0.0     7.991500  Barcelona    23   \n",
       "2352 2025-01-06 00:00:00+00:00            0.0     7.991500  Barcelona     0   \n",
       "\n",
       "             day  \n",
       "0     2024-09-30  \n",
       "1     2024-09-30  \n",
       "2     2024-09-30  \n",
       "3     2024-09-30  \n",
       "4     2024-09-30  \n",
       "...          ...  \n",
       "2348  2025-01-05  \n",
       "2349  2025-01-05  \n",
       "2350  2025-01-05  \n",
       "2351  2025-01-05  \n",
       "2352  2025-01-06  \n",
       "\n",
       "[2353 rows x 6 columns]"
      ]
     },
     "execution_count": 12,
     "metadata": {},
     "output_type": "execute_result"
    }
   ],
   "source": [
    "earliest_bikes_date = pd.Series.min(hourly_avg_df['day'])\n",
    "\n",
    "weather_df = util.get_historical_weather(city, earliest_bikes_date, str(today), latitude, longitude)\n",
    "\n",
    "\n",
    "weather_df['time'] = weather_df['date'].dt.strftime('%H')\n",
    "weather_df['day'] = weather_df['date'].dt.strftime('%Y-%m-%d')\n",
    "#convert the time to int\n",
    "weather_df['time'] = weather_df['time'].astype(int)\n",
    "weather_df"
   ]
  },
  {
   "cell_type": "code",
   "execution_count": 13,
   "id": "cd6eefe3",
   "metadata": {},
   "outputs": [
    {
     "name": "stdout",
     "output_type": "stream",
     "text": [
      "<class 'pandas.core.frame.DataFrame'>\n",
      "Index: 2353 entries, 0 to 2352\n",
      "Data columns (total 6 columns):\n",
      " #   Column         Non-Null Count  Dtype              \n",
      "---  ------         --------------  -----              \n",
      " 0   date           2353 non-null   datetime64[ns, UTC]\n",
      " 1   precipitation  2353 non-null   float32            \n",
      " 2   temperature    2353 non-null   float32            \n",
      " 3   city           2353 non-null   object             \n",
      " 4   time           2353 non-null   int64              \n",
      " 5   day            2353 non-null   object             \n",
      "dtypes: datetime64[ns, UTC](1), float32(2), int64(1), object(2)\n",
      "memory usage: 110.3+ KB\n"
     ]
    }
   ],
   "source": [
    "weather_df.info()"
   ]
  },
  {
   "cell_type": "markdown",
   "id": "fb3830b7",
   "metadata": {},
   "source": [
    "---"
   ]
  },
  {
   "cell_type": "markdown",
   "id": "6291a502",
   "metadata": {},
   "source": [
    "### <span style=\"color:#ff5f27;\"> Connect to Hopsworks and save the metadata</span>"
   ]
  },
  {
   "cell_type": "code",
   "execution_count": 14,
   "id": "aeaf20ef",
   "metadata": {},
   "outputs": [],
   "source": [
    "fs = project.get_feature_store() "
   ]
  },
  {
   "cell_type": "markdown",
   "id": "20dd82f7",
   "metadata": {},
   "source": [
    "#### Save city, station_id, bikes_url, latitude and longitude as a secret\n",
    "\n",
    "These will be downloaded from Hopsworks later in the (1) daily feature pipeline and (2) the daily batch inference pipeline"
   ]
  },
  {
   "cell_type": "code",
   "execution_count": 15,
   "id": "cd36749d",
   "metadata": {},
   "outputs": [
    {
     "name": "stdout",
     "output_type": "stream",
     "text": [
      "STATION_PARAMS_JSON already exists. To update, delete the secret in the UI (https://c.app.hopsworks.ai/account/secrets) and re-run this cell.\n",
      "{\"city\": \"Barcelona\", \"station_id\": 42, \"bikes_url\": \"https://opendata-ajuntament.barcelona.cat/data/dataset/estat-estacions-bicing/resource/1b215493-9e63-4a12-8980-2d7e0fa19f85/download/recurs.json\", \"latitude\": \"41.404511\", \"longitude\": \"2.189881\"}\n"
     ]
    }
   ],
   "source": [
    "dict_obj = {\n",
    "    \"city\": city,\n",
    "    \"station_id\": station_id,\n",
    "    \"bikes_url\": bikes_url,\n",
    "    \"latitude\": latitude,\n",
    "    \"longitude\": longitude\n",
    "}\n",
    "\n",
    "# Convert the dictionary to a JSON string\n",
    "str_dict = json.dumps(dict_obj)\n",
    "\n",
    "try:\n",
    "    secrets.create_secret(\"STATION_PARAMS_JSON\", str_dict)\n",
    "except hopsworks.RestAPIError:\n",
    "    print(\"STATION_PARAMS_JSON already exists. To update, delete the secret in the UI (https://c.app.hopsworks.ai/account/secrets) and re-run this cell.\")\n",
    "    existing_key = secrets.get_secret(\"STATION_PARAMS_JSON\").value\n",
    "    print(f\"{existing_key}\")"
   ]
  },
  {
   "cell_type": "markdown",
   "id": "27e79b3f",
   "metadata": {},
   "source": [
    "### <span style=\"color:#ff5f27;\"> Create the Feature Groups and insert the DataFrames in them </span>"
   ]
  },
  {
   "cell_type": "markdown",
   "id": "b3755b6f",
   "metadata": {},
   "source": [
    "### <span style='color:#ff5f27'> 🌫 Bikes\n",
    "    \n",
    " 1. Provide a name, description, and version for the feature group.\n",
    " 2. Define the `primary_key`: we have to select which columns uniquely identify each row in the DataFrame - by providing them as the `primary_key`. \n",
    " 3. Define the `event_time`: We also define which column stores the timestamp or date for the row - `date`."
   ]
  },
  {
   "cell_type": "code",
   "execution_count": 24,
   "id": "4d2bb403",
   "metadata": {
    "scrolled": true,
    "tags": []
   },
   "outputs": [],
   "source": [
    "bikes_fg = fs.get_or_create_feature_group(\n",
    "    name='bikes',\n",
    "    description='Bikes available at a station every hour',\n",
    "    version=1,\n",
    "    primary_key=['time', 'date', 'day'],\n",
    "    event_time=\"date\",\n",
    ")"
   ]
  },
  {
   "cell_type": "markdown",
   "id": "2933cfa5",
   "metadata": {},
   "source": [
    "#### Insert the DataFrame into the Feature Group"
   ]
  },
  {
   "cell_type": "code",
   "execution_count": 25,
   "id": "0fb42574",
   "metadata": {},
   "outputs": [
    {
     "name": "stdout",
     "output_type": "stream",
     "text": [
      "Feature Group created successfully, explore it at \n",
      "https://c.app.hopsworks.ai:443/p/1164440/fs/1155143/fg/1393514\n"
     ]
    },
    {
     "name": "stderr",
     "output_type": "stream",
     "text": [
      "Uploading Dataframe: 100.00% |██████████| Rows 722/722 | Elapsed Time: 00:01 | Remaining Time: 00:00\n"
     ]
    },
    {
     "name": "stdout",
     "output_type": "stream",
     "text": [
      "Launching job: bikes_1_offline_fg_materialization\n",
      "Job started successfully, you can follow the progress at \n",
      "https://c.app.hopsworks.ai:443/p/1164440/jobs/named/bikes_1_offline_fg_materialization/executions\n"
     ]
    },
    {
     "data": {
      "text/plain": [
       "(Job('bikes_1_offline_fg_materialization', 'SPARK'), None)"
      ]
     },
     "execution_count": 25,
     "metadata": {},
     "output_type": "execute_result"
    }
   ],
   "source": [
    "bikes_fg.insert(hourly_avg_df)"
   ]
  },
  {
   "cell_type": "markdown",
   "id": "663a1606",
   "metadata": {},
   "source": [
    "#### Enter a description for each feature in the Feature Group"
   ]
  },
  {
   "cell_type": "code",
   "execution_count": 26,
   "id": "577effca",
   "metadata": {},
   "outputs": [
    {
     "data": {
      "text/plain": [
       "<hsfs.feature_group.FeatureGroup at 0x17a9ea290>"
      ]
     },
     "execution_count": 26,
     "metadata": {},
     "output_type": "execute_result"
    }
   ],
   "source": [
    "bikes_fg.update_feature_description(\"day\", \"Day of measurement of bikes availability\")\n",
    "bikes_fg.update_feature_description(\"time\", \"Hour of measurement of bikes availability\")\n",
    "bikes_fg.update_feature_description(\"num_bikes_available\", \"Available bikes at the station\")\n",
    "bikes_fg.update_feature_description(\"prev_num_bikes_available\", \"Bikes available the station during the previous hour\")\n",
    "bikes_fg.update_feature_description(\"date\", \"Last time the data was updated\")\n",
    "bikes_fg.update_feature_description(\"is_weekend\", \"Boolean if the date is weekend or not\")\n",
    "bikes_fg.update_feature_description(\"is_holiday\", \"Boolean if the date is holiday or not\")"
   ]
  },
  {
   "cell_type": "markdown",
   "id": "5894b731",
   "metadata": {},
   "source": [
    "### <span style='color:#ff5f27'> 🌦 Weather Data\n",
    "    \n",
    " 1. Provide a name, description, and version for the feature group.\n",
    " 2. Define the `primary_key`: we have to select which columns uniquely identify each row in the DataFrame - by providing them as the `primary_key`. \n",
    " 3. Define the `event_time`: We also define which column stores the timestamp or date for the row - `date`."
   ]
  },
  {
   "cell_type": "code",
   "execution_count": 17,
   "id": "572a84ed",
   "metadata": {},
   "outputs": [],
   "source": [
    "# Get or create feature group \n",
    "weather_fg = fs.get_or_create_feature_group(\n",
    "    name='weather',\n",
    "    description='Weather characteristics of each hour',\n",
    "    version=1,\n",
    "    primary_key=['date', 'time', 'day'],\n",
    "    event_time=\"date\",\n",
    ") "
   ]
  },
  {
   "cell_type": "markdown",
   "id": "721881b7",
   "metadata": {},
   "source": [
    "#### Insert the DataFrame into the Feature Group"
   ]
  },
  {
   "cell_type": "code",
   "execution_count": 18,
   "id": "5ba846ea",
   "metadata": {
    "tags": []
   },
   "outputs": [
    {
     "name": "stdout",
     "output_type": "stream",
     "text": [
      "Feature Group created successfully, explore it at \n",
      "https://c.app.hopsworks.ai:443/p/1164440/fs/1155143/fg/1393675\n"
     ]
    },
    {
     "name": "stderr",
     "output_type": "stream",
     "text": [
      "Uploading Dataframe: 100.00% |██████████| Rows 2353/2353 | Elapsed Time: 00:01 | Remaining Time: 00:00\n"
     ]
    },
    {
     "name": "stdout",
     "output_type": "stream",
     "text": [
      "Launching job: weather_1_offline_fg_materialization\n",
      "Job started successfully, you can follow the progress at \n",
      "https://c.app.hopsworks.ai:443/p/1164440/jobs/named/weather_1_offline_fg_materialization/executions\n"
     ]
    },
    {
     "data": {
      "text/plain": [
       "(Job('weather_1_offline_fg_materialization', 'SPARK'), None)"
      ]
     },
     "execution_count": 18,
     "metadata": {},
     "output_type": "execute_result"
    }
   ],
   "source": [
    "# Insert data\n",
    "weather_fg.insert(weather_df)"
   ]
  },
  {
   "cell_type": "markdown",
   "id": "5a87422d",
   "metadata": {},
   "source": [
    "#### Enter a description for each feature in the Feature Group"
   ]
  },
  {
   "cell_type": "code",
   "execution_count": 19,
   "id": "71e6f6d3",
   "metadata": {},
   "outputs": [
    {
     "data": {
      "text/plain": [
       "<hsfs.feature_group.FeatureGroup at 0x17e99c850>"
      ]
     },
     "execution_count": 19,
     "metadata": {},
     "output_type": "execute_result"
    }
   ],
   "source": [
    "weather_fg.update_feature_description(\"date\", \"Date of measurement of weather\")\n",
    "weather_fg.update_feature_description(\"day\", \"Day of measurement of weather\")\n",
    "weather_fg.update_feature_description(\"time\", \"Time of measurement of weather\")\n",
    "weather_fg.update_feature_description(\"city\", \"City where weather is measured/forecast for\")\n",
    "weather_fg.update_feature_description(\"precipitation\", \"Precipitation (rain/snow) in mm\")\n",
    "weather_fg.update_feature_description(\"temperature\", \"Temperature in Celsius 2m above ground\")"
   ]
  },
  {
   "cell_type": "markdown",
   "id": "bb407899",
   "metadata": {},
   "source": [
    "---"
   ]
  }
 ],
 "metadata": {
  "kernelspec": {
   "display_name": "venv",
   "language": "python",
   "name": "python3"
  },
  "language_info": {
   "codemirror_mode": {
    "name": "ipython",
    "version": 3
   },
   "file_extension": ".py",
   "mimetype": "text/x-python",
   "name": "python",
   "nbconvert_exporter": "python",
   "pygments_lexer": "ipython3",
   "version": "3.11.5"
  }
 },
 "nbformat": 4,
 "nbformat_minor": 5
}
