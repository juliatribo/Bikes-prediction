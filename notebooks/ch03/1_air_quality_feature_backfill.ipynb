{
 "cells": [
  {
   "cell_type": "markdown",
   "id": "f139ba67",
   "metadata": {},
   "source": [
    "<span style=\"font-width:bold; font-size: 3rem; color:#333;\">- Part 01: Feature Backfill for Air Quality Data</span>\n",
    "\n",
    "\n",
    "## 🗒️ You have the following tasks\n",
    "1. Choose an Air Quality Sensor\n",
    "2. Update the country, city, and street information to point to YOUR chosen Air Quality Sensor\n",
    "3. Download historical measures for your Air Quality Sensor as a CSV file\n",
    "4. Update the path of the CSV file in this notebook to point to the one that you downloaded\n",
    "5. Create an account on www.hopsworks.ai and get your HOPSWORKS_API_KEY\n",
    "6. Run this notebook\n",
    "\n"
   ]
  },
  {
   "cell_type": "markdown",
   "id": "41d6a80c",
   "metadata": {},
   "source": [
    "### <span style='color:#ff5f27'> 📝 Imports"
   ]
  },
  {
   "cell_type": "code",
   "execution_count": 1,
   "id": "0f447120",
   "metadata": {},
   "outputs": [
    {
     "name": "stderr",
     "output_type": "stream",
     "text": [
      "/home/arejula27/.local/lib/python3.11/site-packages/tqdm/auto.py:21: TqdmWarning: IProgress not found. Please update jupyter and ipywidgets. See https://ipywidgets.readthedocs.io/en/stable/user_install.html\n",
      "  from .autonotebook import tqdm as notebook_tqdm\n"
     ]
    }
   ],
   "source": [
    "import datetime\n",
    "import requests\n",
    "import pandas as pd\n",
    "import hopsworks\n",
    "import datetime\n",
    "from pathlib import Path\n",
    "from functions import util\n",
    "import json\n",
    "import re\n",
    "import os\n",
    "import warnings\n",
    "import holidays\n",
    "warnings.filterwarnings(\"ignore\")"
   ]
  },
  {
   "cell_type": "markdown",
   "id": "0bb50142-06be-4003-9fd0-6b19c095b010",
   "metadata": {},
   "source": [
    "### IF YOU WANT TO WIPE OUT ALL OF YOUR FEATURES AND MODELS, run the cell below"
   ]
  },
  {
   "cell_type": "code",
   "execution_count": 2,
   "id": "014f3362-87f5-4abd-bb57-bebd28638bdb",
   "metadata": {},
   "outputs": [],
   "source": [
    "# If you haven't set the env variable 'HOPSWORKS_API_KEY', then uncomment the next line and enter your API key\n",
    "# os.environ[\"HOPSWORKS_API_KEY\"] = \"\"\n",
    "# proj = hopsworks.login()\n",
    "# util.purge_project(proj)"
   ]
  },
  {
   "cell_type": "markdown",
   "id": "50156f96",
   "metadata": {},
   "source": [
    "---"
   ]
  },
  {
   "cell_type": "code",
   "execution_count": 2,
   "id": "a51ece50-ffd8-442a-acc4-ee1d35518cbb",
   "metadata": {},
   "outputs": [
    {
     "name": "stdout",
     "output_type": "stream",
     "text": [
      "File successfully found at the path: ../../data/bikes_oct.csv\n"
     ]
    }
   ],
   "source": [
    "csv_file=\"../../data/bikes_oct.csv\"\n",
    "util.check_file_path(csv_file)"
   ]
  },
  {
   "cell_type": "code",
   "execution_count": 3,
   "id": "d58eda7c",
   "metadata": {},
   "outputs": [],
   "source": [
    "station_id =42\n",
    "\n",
    "bikes_url = 'https://opendata-ajuntament.barcelona.cat/data/dataset/estat-estacions-bicing/resource/1b215493-9e63-4a12-8980-2d7e0fa19f85/download/recurs.json'\n",
    "\n",
    "# Station 42 latitude and longitude\n",
    "latitude = \"41.404511\"\n",
    "longitude = \"2.189881\"\n",
    "city = \"Barcelona\"\n",
    "\n",
    "today = datetime.date.today()"
   ]
  },
  {
   "cell_type": "code",
   "execution_count": 4,
   "id": "6ea6ab4f-a2ab-4865-b215-78b1001265c7",
   "metadata": {},
   "outputs": [
    {
     "name": "stdout",
     "output_type": "stream",
     "text": [
      "File successfully found at the path: ../../data/bicing-api-key.txt\n"
     ]
    }
   ],
   "source": [
    "bicing_api_key_file = '../../data/bicing-api-key.txt'\n",
    "util.check_file_path(bicing_api_key_file)\n",
    "\n",
    "with open(bicing_api_key_file, 'r') as file:\n",
    "    BICING_API_KEY = file.read().rstrip()"
   ]
  },
  {
   "cell_type": "markdown",
   "id": "bd8b8d1a-62a5-4a1d-b805-6e83cafcd29f",
   "metadata": {},
   "source": [
    "## Hopsworks API Key\n",
    "You need to have registered an account on app.hopsworks.ai.\n",
    "You will be prompted to enter your API key here, unless you set it as the environment variable HOPSWORKS_API_KEY (my preffered approach)."
   ]
  },
  {
   "cell_type": "code",
   "execution_count": 5,
   "id": "9f1a49d6-9cd2-4246-b0ca-1058672e4848",
   "metadata": {},
   "outputs": [
    {
     "name": "stdout",
     "output_type": "stream",
     "text": [
      "2025-01-03 11:56:11,446 INFO: Initializing external client\n",
      "2025-01-03 11:56:11,446 INFO: Base URL: https://c.app.hopsworks.ai:443\n",
      "2025-01-03 11:56:12,873 INFO: Python Engine initialized.\n",
      "\n",
      "Logged in to project, explore it here https://c.app.hopsworks.ai:443/p/1164440\n"
     ]
    }
   ],
   "source": [
    "with open('../../data/hopsworks-api-key.txt', 'r') as file:\n",
    "    os.environ[\"HOPSWORKS_API_KEY\"] = file.read().rstrip()\n",
    "    \n",
    "project = hopsworks.login(project=\"juls_first_project\")"
   ]
  },
  {
   "cell_type": "code",
   "execution_count": 6,
   "id": "9145f0b7-d961-41f7-aebe-741dbf00784c",
   "metadata": {},
   "outputs": [],
   "source": [
    "secrets = hopsworks.get_secrets_api()\n",
    "try:\n",
    "    secrets.create_secret(\"BICING_API_KEY\", BICING_API_KEY)\n",
    "except hopsworks.RestAPIError:\n",
    "    BICING_API_KEY = secrets.get_secret(\"BICING_API_KEY\").value"
   ]
  },
  {
   "cell_type": "code",
   "execution_count": 7,
   "id": "786127b0-c4e5-4a5f-a6fa-4cce903a9c77",
   "metadata": {},
   "outputs": [
    {
     "data": {
      "text/html": [
       "<div>\n",
       "<style scoped>\n",
       "    .dataframe tbody tr th:only-of-type {\n",
       "        vertical-align: middle;\n",
       "    }\n",
       "\n",
       "    .dataframe tbody tr th {\n",
       "        vertical-align: top;\n",
       "    }\n",
       "\n",
       "    .dataframe thead th {\n",
       "        text-align: right;\n",
       "    }\n",
       "</style>\n",
       "<table border=\"1\" class=\"dataframe\">\n",
       "  <thead>\n",
       "    <tr style=\"text-align: right;\">\n",
       "      <th></th>\n",
       "      <th>station_id</th>\n",
       "      <th>num_bikes_available</th>\n",
       "      <th>last_reported</th>\n",
       "    </tr>\n",
       "  </thead>\n",
       "  <tbody>\n",
       "    <tr>\n",
       "      <th>0</th>\n",
       "      <td>42</td>\n",
       "      <td>19</td>\n",
       "      <td>2025-01-03 10:55:37 UTC</td>\n",
       "    </tr>\n",
       "  </tbody>\n",
       "</table>\n",
       "</div>"
      ],
      "text/plain": [
       "   station_id  num_bikes_available            last_reported\n",
       "0          42                   19  2025-01-03 10:55:37 UTC"
      ]
     },
     "execution_count": 7,
     "metadata": {},
     "output_type": "execute_result"
    }
   ],
   "source": [
    "try:\n",
    "    bikes_now_df = util.fetch_station_data(bikes_url, BICING_API_KEY, station_id)\n",
    "except hopsworks.RestAPIError:\n",
    "    print(\"It looks like the BICING_API_KEY doesn't work. Is the API key correct? Is the URL correct?\")\n",
    "bikes_now_df.head()"
   ]
  },
  {
   "cell_type": "markdown",
   "id": "c706e751",
   "metadata": {},
   "source": [
    "## <span style='color:#ff5f27'> 🌍 STEP 5: Read your CSV file into a DataFrame </span>\n",
    "\n",
    "The cell below will read up historical air quality data as a CSV file into a Pandas DataFrame"
   ]
  },
  {
   "cell_type": "code",
   "execution_count": 8,
   "id": "bc3a1212",
   "metadata": {
    "tags": []
   },
   "outputs": [
    {
     "data": {
      "text/html": [
       "<div>\n",
       "<style scoped>\n",
       "    .dataframe tbody tr th:only-of-type {\n",
       "        vertical-align: middle;\n",
       "    }\n",
       "\n",
       "    .dataframe tbody tr th {\n",
       "        vertical-align: top;\n",
       "    }\n",
       "\n",
       "    .dataframe thead th {\n",
       "        text-align: right;\n",
       "    }\n",
       "</style>\n",
       "<table border=\"1\" class=\"dataframe\">\n",
       "  <thead>\n",
       "    <tr style=\"text-align: right;\">\n",
       "      <th></th>\n",
       "      <th>station_id</th>\n",
       "      <th>num_bikes_available</th>\n",
       "      <th>num_bikes_available_types.mechanical</th>\n",
       "      <th>num_bikes_available_types.ebike</th>\n",
       "      <th>num_docks_available</th>\n",
       "      <th>last_reported</th>\n",
       "      <th>is_charging_station</th>\n",
       "      <th>status</th>\n",
       "      <th>is_installed</th>\n",
       "      <th>is_renting</th>\n",
       "      <th>is_returning</th>\n",
       "      <th>traffic</th>\n",
       "      <th>last_updated</th>\n",
       "      <th>ttl</th>\n",
       "      <th>V1</th>\n",
       "    </tr>\n",
       "  </thead>\n",
       "  <tbody>\n",
       "    <tr>\n",
       "      <th>39</th>\n",
       "      <td>42.0</td>\n",
       "      <td>1.0</td>\n",
       "      <td>0.0</td>\n",
       "      <td>1.0</td>\n",
       "      <td>21.0</td>\n",
       "      <td>1.727733e+09</td>\n",
       "      <td>True</td>\n",
       "      <td>IN_SERVICE</td>\n",
       "      <td>1.0</td>\n",
       "      <td>1.0</td>\n",
       "      <td>1.0</td>\n",
       "      <td>NaN</td>\n",
       "      <td>1727733600</td>\n",
       "      <td>0.0</td>\n",
       "      <td>NaN</td>\n",
       "    </tr>\n",
       "    <tr>\n",
       "      <th>552</th>\n",
       "      <td>42.0</td>\n",
       "      <td>0.0</td>\n",
       "      <td>0.0</td>\n",
       "      <td>0.0</td>\n",
       "      <td>22.0</td>\n",
       "      <td>1.727734e+09</td>\n",
       "      <td>True</td>\n",
       "      <td>IN_SERVICE</td>\n",
       "      <td>1.0</td>\n",
       "      <td>1.0</td>\n",
       "      <td>1.0</td>\n",
       "      <td>NaN</td>\n",
       "      <td>1727733901</td>\n",
       "      <td>0.0</td>\n",
       "      <td>NaN</td>\n",
       "    </tr>\n",
       "    <tr>\n",
       "      <th>1064</th>\n",
       "      <td>42.0</td>\n",
       "      <td>0.0</td>\n",
       "      <td>0.0</td>\n",
       "      <td>0.0</td>\n",
       "      <td>22.0</td>\n",
       "      <td>1.727734e+09</td>\n",
       "      <td>True</td>\n",
       "      <td>IN_SERVICE</td>\n",
       "      <td>1.0</td>\n",
       "      <td>1.0</td>\n",
       "      <td>1.0</td>\n",
       "      <td>NaN</td>\n",
       "      <td>1727734198</td>\n",
       "      <td>0.0</td>\n",
       "      <td>NaN</td>\n",
       "    </tr>\n",
       "    <tr>\n",
       "      <th>1576</th>\n",
       "      <td>42.0</td>\n",
       "      <td>0.0</td>\n",
       "      <td>0.0</td>\n",
       "      <td>0.0</td>\n",
       "      <td>22.0</td>\n",
       "      <td>1.727734e+09</td>\n",
       "      <td>True</td>\n",
       "      <td>IN_SERVICE</td>\n",
       "      <td>1.0</td>\n",
       "      <td>1.0</td>\n",
       "      <td>1.0</td>\n",
       "      <td>NaN</td>\n",
       "      <td>1727734501</td>\n",
       "      <td>0.0</td>\n",
       "      <td>NaN</td>\n",
       "    </tr>\n",
       "    <tr>\n",
       "      <th>2088</th>\n",
       "      <td>42.0</td>\n",
       "      <td>0.0</td>\n",
       "      <td>0.0</td>\n",
       "      <td>0.0</td>\n",
       "      <td>22.0</td>\n",
       "      <td>1.727735e+09</td>\n",
       "      <td>True</td>\n",
       "      <td>IN_SERVICE</td>\n",
       "      <td>1.0</td>\n",
       "      <td>1.0</td>\n",
       "      <td>1.0</td>\n",
       "      <td>NaN</td>\n",
       "      <td>1727734804</td>\n",
       "      <td>0.0</td>\n",
       "      <td>NaN</td>\n",
       "    </tr>\n",
       "  </tbody>\n",
       "</table>\n",
       "</div>"
      ],
      "text/plain": [
       "      station_id  num_bikes_available  num_bikes_available_types.mechanical  \\\n",
       "39          42.0                  1.0                                   0.0   \n",
       "552         42.0                  0.0                                   0.0   \n",
       "1064        42.0                  0.0                                   0.0   \n",
       "1576        42.0                  0.0                                   0.0   \n",
       "2088        42.0                  0.0                                   0.0   \n",
       "\n",
       "      num_bikes_available_types.ebike  num_docks_available  last_reported  \\\n",
       "39                                1.0                 21.0   1.727733e+09   \n",
       "552                               0.0                 22.0   1.727734e+09   \n",
       "1064                              0.0                 22.0   1.727734e+09   \n",
       "1576                              0.0                 22.0   1.727734e+09   \n",
       "2088                              0.0                 22.0   1.727735e+09   \n",
       "\n",
       "     is_charging_station      status  is_installed  is_renting  is_returning  \\\n",
       "39                  True  IN_SERVICE           1.0         1.0           1.0   \n",
       "552                 True  IN_SERVICE           1.0         1.0           1.0   \n",
       "1064                True  IN_SERVICE           1.0         1.0           1.0   \n",
       "1576                True  IN_SERVICE           1.0         1.0           1.0   \n",
       "2088                True  IN_SERVICE           1.0         1.0           1.0   \n",
       "\n",
       "      traffic last_updated  ttl  V1  \n",
       "39        NaN   1727733600  0.0 NaN  \n",
       "552       NaN   1727733901  0.0 NaN  \n",
       "1064      NaN   1727734198  0.0 NaN  \n",
       "1576      NaN   1727734501  0.0 NaN  \n",
       "2088      NaN   1727734804  0.0 NaN  "
      ]
     },
     "execution_count": 8,
     "metadata": {},
     "output_type": "execute_result"
    }
   ],
   "source": [
    "#get only the station_id=42 from the csv file\n",
    "df = pd.read_csv(csv_file,  parse_dates=['last_updated'] , skipinitialspace=True)\n",
    "df = df[df['station_id'] == station_id]\n",
    "df.head()"
   ]
  },
  {
   "cell_type": "markdown",
   "id": "8812eb37-04e3-4291-8d77-a69ef7a195bc",
   "metadata": {},
   "source": [
    "## <span style='color:#ff5f27'> 🌍 STEP 6: Data cleaning</span>\n",
    "\n",
    "\n",
    "### Rename columns if needed and drop unneccessary columns\n",
    "\n",
    "We want to have a DataFrame with 2 columns - `date` and `pm25` after this cell below:"
   ]
  },
  {
   "cell_type": "markdown",
   "id": "47dcfa73",
   "metadata": {},
   "source": [
    "## Check the data types for the columns in your DataFrame\n",
    "\n",
    " * `date` should be of type   datetime64[ns] \n",
    " * `pm25` should be of type float64"
   ]
  },
  {
   "cell_type": "code",
   "execution_count": 9,
   "id": "fd20c859-ef3c-4b54-bbcb-83898afefa79",
   "metadata": {},
   "outputs": [
    {
     "data": {
      "text/html": [
       "<div>\n",
       "<style scoped>\n",
       "    .dataframe tbody tr th:only-of-type {\n",
       "        vertical-align: middle;\n",
       "    }\n",
       "\n",
       "    .dataframe tbody tr th {\n",
       "        vertical-align: top;\n",
       "    }\n",
       "\n",
       "    .dataframe thead th {\n",
       "        text-align: right;\n",
       "    }\n",
       "</style>\n",
       "<table border=\"1\" class=\"dataframe\">\n",
       "  <thead>\n",
       "    <tr style=\"text-align: right;\">\n",
       "      <th></th>\n",
       "      <th>day</th>\n",
       "      <th>time</th>\n",
       "      <th>num_bikes_available</th>\n",
       "      <th>date</th>\n",
       "      <th>is_weekend</th>\n",
       "      <th>is_holiday</th>\n",
       "    </tr>\n",
       "  </thead>\n",
       "  <tbody>\n",
       "    <tr>\n",
       "      <th>0</th>\n",
       "      <td>2024-09-30</td>\n",
       "      <td>22</td>\n",
       "      <td>0.250000</td>\n",
       "      <td>2024-09-30 22:00:00</td>\n",
       "      <td>False</td>\n",
       "      <td>False</td>\n",
       "    </tr>\n",
       "    <tr>\n",
       "      <th>1</th>\n",
       "      <td>2024-09-30</td>\n",
       "      <td>23</td>\n",
       "      <td>0.333333</td>\n",
       "      <td>2024-09-30 23:00:00</td>\n",
       "      <td>False</td>\n",
       "      <td>False</td>\n",
       "    </tr>\n",
       "    <tr>\n",
       "      <th>2</th>\n",
       "      <td>2024-10-01</td>\n",
       "      <td>00</td>\n",
       "      <td>1.230769</td>\n",
       "      <td>2024-10-01 00:00:00</td>\n",
       "      <td>False</td>\n",
       "      <td>False</td>\n",
       "    </tr>\n",
       "    <tr>\n",
       "      <th>3</th>\n",
       "      <td>2024-10-01</td>\n",
       "      <td>01</td>\n",
       "      <td>1.333333</td>\n",
       "      <td>2024-10-01 01:00:00</td>\n",
       "      <td>False</td>\n",
       "      <td>False</td>\n",
       "    </tr>\n",
       "    <tr>\n",
       "      <th>4</th>\n",
       "      <td>2024-10-01</td>\n",
       "      <td>02</td>\n",
       "      <td>1.166667</td>\n",
       "      <td>2024-10-01 02:00:00</td>\n",
       "      <td>False</td>\n",
       "      <td>False</td>\n",
       "    </tr>\n",
       "    <tr>\n",
       "      <th>...</th>\n",
       "      <td>...</td>\n",
       "      <td>...</td>\n",
       "      <td>...</td>\n",
       "      <td>...</td>\n",
       "      <td>...</td>\n",
       "      <td>...</td>\n",
       "    </tr>\n",
       "    <tr>\n",
       "      <th>718</th>\n",
       "      <td>2024-10-31</td>\n",
       "      <td>19</td>\n",
       "      <td>19.818182</td>\n",
       "      <td>2024-10-31 19:00:00</td>\n",
       "      <td>False</td>\n",
       "      <td>False</td>\n",
       "    </tr>\n",
       "    <tr>\n",
       "      <th>719</th>\n",
       "      <td>2024-10-31</td>\n",
       "      <td>20</td>\n",
       "      <td>18.583333</td>\n",
       "      <td>2024-10-31 20:00:00</td>\n",
       "      <td>False</td>\n",
       "      <td>False</td>\n",
       "    </tr>\n",
       "    <tr>\n",
       "      <th>720</th>\n",
       "      <td>2024-10-31</td>\n",
       "      <td>21</td>\n",
       "      <td>15.833333</td>\n",
       "      <td>2024-10-31 21:00:00</td>\n",
       "      <td>False</td>\n",
       "      <td>False</td>\n",
       "    </tr>\n",
       "    <tr>\n",
       "      <th>721</th>\n",
       "      <td>2024-10-31</td>\n",
       "      <td>22</td>\n",
       "      <td>18.166667</td>\n",
       "      <td>2024-10-31 22:00:00</td>\n",
       "      <td>False</td>\n",
       "      <td>False</td>\n",
       "    </tr>\n",
       "    <tr>\n",
       "      <th>722</th>\n",
       "      <td>2024-10-31</td>\n",
       "      <td>23</td>\n",
       "      <td>19.250000</td>\n",
       "      <td>2024-10-31 23:00:00</td>\n",
       "      <td>False</td>\n",
       "      <td>False</td>\n",
       "    </tr>\n",
       "  </tbody>\n",
       "</table>\n",
       "<p>723 rows × 6 columns</p>\n",
       "</div>"
      ],
      "text/plain": [
       "            day time  num_bikes_available                date  is_weekend  \\\n",
       "0    2024-09-30   22             0.250000 2024-09-30 22:00:00       False   \n",
       "1    2024-09-30   23             0.333333 2024-09-30 23:00:00       False   \n",
       "2    2024-10-01   00             1.230769 2024-10-01 00:00:00       False   \n",
       "3    2024-10-01   01             1.333333 2024-10-01 01:00:00       False   \n",
       "4    2024-10-01   02             1.166667 2024-10-01 02:00:00       False   \n",
       "..          ...  ...                  ...                 ...         ...   \n",
       "718  2024-10-31   19            19.818182 2024-10-31 19:00:00       False   \n",
       "719  2024-10-31   20            18.583333 2024-10-31 20:00:00       False   \n",
       "720  2024-10-31   21            15.833333 2024-10-31 21:00:00       False   \n",
       "721  2024-10-31   22            18.166667 2024-10-31 22:00:00       False   \n",
       "722  2024-10-31   23            19.250000 2024-10-31 23:00:00       False   \n",
       "\n",
       "     is_holiday  \n",
       "0         False  \n",
       "1         False  \n",
       "2         False  \n",
       "3         False  \n",
       "4         False  \n",
       "..          ...  \n",
       "718       False  \n",
       "719       False  \n",
       "720       False  \n",
       "721       False  \n",
       "722       False  \n",
       "\n",
       "[723 rows x 6 columns]"
      ]
     },
     "execution_count": 9,
     "metadata": {},
     "output_type": "execute_result"
    }
   ],
   "source": [
    "# These commands will succeed if your CSV file didn't have a `median` or `timestamp` column\n",
    "#df = df.rename(columns={\"median\": \"pm25\"})\n",
    "#df = df.rename(columns={\"timestamp\": \"date\"})\n",
    "\n",
    "station_df = df[['last_updated', 'num_bikes_available']]\n",
    "station_df['last_updated'] = pd.to_datetime(\n",
    "    station_df['last_updated'], unit='s', utc=True, errors='coerce'\n",
    ")\n",
    "\n",
    "# Crear columna 'date' con la fecha\n",
    "station_df['day'] = station_df['last_updated'].dt.strftime('%Y-%m-%d')\n",
    "# Crear columna 'time' con la hora\n",
    "station_df['time'] = station_df['last_updated'].dt.strftime('%H')\n",
    "station_df = station_df.rename(columns={\"last_updated\": \"date\"})\n",
    "hourly_avg_df = station_df.groupby(['day', 'time']).mean([\"num_bikes_available\"]).reset_index()\n",
    "\n",
    "## Add a column date with the date based on the columns day and time, type datetime\n",
    "hourly_avg_df['date'] = hourly_avg_df['day'] + ' ' + hourly_avg_df['time'] + ':00:00'\n",
    "hourly_avg_df['date'] = pd.to_datetime(hourly_avg_df['date'], format='%Y-%m-%d %H:%M:%S')\n",
    "\n",
    "## Adding a new boolean column if the date is weekend or not\n",
    "hourly_avg_df['is_weekend'] = hourly_avg_df['date'].dt.dayofweek > 4\n",
    "## Adding a new boolean column if the date is holiday or not\n",
    "holidays_es = holidays.Spain()\n",
    "hourly_avg_df['is_holiday'] = hourly_avg_df['date'].dt.date.astype(str).map(lambda x: x in holidays_es)\n",
    "\n",
    "hourly_avg_df\n",
    "\n",
    "# Get the column with date 2024\n",
    "\n"
   ]
  },
  {
   "cell_type": "code",
   "execution_count": 10,
   "id": "1f13a19d",
   "metadata": {},
   "outputs": [
    {
     "name": "stdout",
     "output_type": "stream",
     "text": [
      "<class 'pandas.core.frame.DataFrame'>\n",
      "RangeIndex: 723 entries, 0 to 722\n",
      "Data columns (total 6 columns):\n",
      " #   Column               Non-Null Count  Dtype         \n",
      "---  ------               --------------  -----         \n",
      " 0   day                  723 non-null    object        \n",
      " 1   time                 723 non-null    object        \n",
      " 2   num_bikes_available  723 non-null    float64       \n",
      " 3   date                 723 non-null    datetime64[ns]\n",
      " 4   is_weekend           723 non-null    bool          \n",
      " 5   is_holiday           723 non-null    bool          \n",
      "dtypes: bool(2), datetime64[ns](1), float64(1), object(2)\n",
      "memory usage: 24.1+ KB\n"
     ]
    }
   ],
   "source": [
    "# Cast the pm25 column to be a float32 data type\n",
    "hourly_avg_df.info()"
   ]
  },
  {
   "cell_type": "markdown",
   "id": "19911f73",
   "metadata": {},
   "source": [
    "## <span style='color:#ff5f27'> 🌍 STEP 7: Drop any rows with missing data </span>\n",
    "It will make the model training easier if there is no missing data in the rows, so we drop any rows with missing data."
   ]
  },
  {
   "cell_type": "code",
   "execution_count": 11,
   "id": "37b0a762",
   "metadata": {},
   "outputs": [
    {
     "data": {
      "text/html": [
       "<div>\n",
       "<style scoped>\n",
       "    .dataframe tbody tr th:only-of-type {\n",
       "        vertical-align: middle;\n",
       "    }\n",
       "\n",
       "    .dataframe tbody tr th {\n",
       "        vertical-align: top;\n",
       "    }\n",
       "\n",
       "    .dataframe thead th {\n",
       "        text-align: right;\n",
       "    }\n",
       "</style>\n",
       "<table border=\"1\" class=\"dataframe\">\n",
       "  <thead>\n",
       "    <tr style=\"text-align: right;\">\n",
       "      <th></th>\n",
       "      <th>day</th>\n",
       "      <th>time</th>\n",
       "      <th>num_bikes_available</th>\n",
       "      <th>date</th>\n",
       "      <th>is_weekend</th>\n",
       "      <th>is_holiday</th>\n",
       "    </tr>\n",
       "  </thead>\n",
       "  <tbody>\n",
       "    <tr>\n",
       "      <th>0</th>\n",
       "      <td>2024-09-30</td>\n",
       "      <td>22</td>\n",
       "      <td>0.250000</td>\n",
       "      <td>2024-09-30 22:00:00</td>\n",
       "      <td>False</td>\n",
       "      <td>False</td>\n",
       "    </tr>\n",
       "    <tr>\n",
       "      <th>1</th>\n",
       "      <td>2024-09-30</td>\n",
       "      <td>23</td>\n",
       "      <td>0.333333</td>\n",
       "      <td>2024-09-30 23:00:00</td>\n",
       "      <td>False</td>\n",
       "      <td>False</td>\n",
       "    </tr>\n",
       "    <tr>\n",
       "      <th>2</th>\n",
       "      <td>2024-10-01</td>\n",
       "      <td>00</td>\n",
       "      <td>1.230769</td>\n",
       "      <td>2024-10-01 00:00:00</td>\n",
       "      <td>False</td>\n",
       "      <td>False</td>\n",
       "    </tr>\n",
       "    <tr>\n",
       "      <th>3</th>\n",
       "      <td>2024-10-01</td>\n",
       "      <td>01</td>\n",
       "      <td>1.333333</td>\n",
       "      <td>2024-10-01 01:00:00</td>\n",
       "      <td>False</td>\n",
       "      <td>False</td>\n",
       "    </tr>\n",
       "    <tr>\n",
       "      <th>4</th>\n",
       "      <td>2024-10-01</td>\n",
       "      <td>02</td>\n",
       "      <td>1.166667</td>\n",
       "      <td>2024-10-01 02:00:00</td>\n",
       "      <td>False</td>\n",
       "      <td>False</td>\n",
       "    </tr>\n",
       "    <tr>\n",
       "      <th>...</th>\n",
       "      <td>...</td>\n",
       "      <td>...</td>\n",
       "      <td>...</td>\n",
       "      <td>...</td>\n",
       "      <td>...</td>\n",
       "      <td>...</td>\n",
       "    </tr>\n",
       "    <tr>\n",
       "      <th>718</th>\n",
       "      <td>2024-10-31</td>\n",
       "      <td>19</td>\n",
       "      <td>19.818182</td>\n",
       "      <td>2024-10-31 19:00:00</td>\n",
       "      <td>False</td>\n",
       "      <td>False</td>\n",
       "    </tr>\n",
       "    <tr>\n",
       "      <th>719</th>\n",
       "      <td>2024-10-31</td>\n",
       "      <td>20</td>\n",
       "      <td>18.583333</td>\n",
       "      <td>2024-10-31 20:00:00</td>\n",
       "      <td>False</td>\n",
       "      <td>False</td>\n",
       "    </tr>\n",
       "    <tr>\n",
       "      <th>720</th>\n",
       "      <td>2024-10-31</td>\n",
       "      <td>21</td>\n",
       "      <td>15.833333</td>\n",
       "      <td>2024-10-31 21:00:00</td>\n",
       "      <td>False</td>\n",
       "      <td>False</td>\n",
       "    </tr>\n",
       "    <tr>\n",
       "      <th>721</th>\n",
       "      <td>2024-10-31</td>\n",
       "      <td>22</td>\n",
       "      <td>18.166667</td>\n",
       "      <td>2024-10-31 22:00:00</td>\n",
       "      <td>False</td>\n",
       "      <td>False</td>\n",
       "    </tr>\n",
       "    <tr>\n",
       "      <th>722</th>\n",
       "      <td>2024-10-31</td>\n",
       "      <td>23</td>\n",
       "      <td>19.250000</td>\n",
       "      <td>2024-10-31 23:00:00</td>\n",
       "      <td>False</td>\n",
       "      <td>False</td>\n",
       "    </tr>\n",
       "  </tbody>\n",
       "</table>\n",
       "<p>723 rows × 6 columns</p>\n",
       "</div>"
      ],
      "text/plain": [
       "            day time  num_bikes_available                date  is_weekend  \\\n",
       "0    2024-09-30   22             0.250000 2024-09-30 22:00:00       False   \n",
       "1    2024-09-30   23             0.333333 2024-09-30 23:00:00       False   \n",
       "2    2024-10-01   00             1.230769 2024-10-01 00:00:00       False   \n",
       "3    2024-10-01   01             1.333333 2024-10-01 01:00:00       False   \n",
       "4    2024-10-01   02             1.166667 2024-10-01 02:00:00       False   \n",
       "..          ...  ...                  ...                 ...         ...   \n",
       "718  2024-10-31   19            19.818182 2024-10-31 19:00:00       False   \n",
       "719  2024-10-31   20            18.583333 2024-10-31 20:00:00       False   \n",
       "720  2024-10-31   21            15.833333 2024-10-31 21:00:00       False   \n",
       "721  2024-10-31   22            18.166667 2024-10-31 22:00:00       False   \n",
       "722  2024-10-31   23            19.250000 2024-10-31 23:00:00       False   \n",
       "\n",
       "     is_holiday  \n",
       "0         False  \n",
       "1         False  \n",
       "2         False  \n",
       "3         False  \n",
       "4         False  \n",
       "..          ...  \n",
       "718       False  \n",
       "719       False  \n",
       "720       False  \n",
       "721       False  \n",
       "722       False  \n",
       "\n",
       "[723 rows x 6 columns]"
      ]
     },
     "execution_count": 11,
     "metadata": {},
     "output_type": "execute_result"
    }
   ],
   "source": [
    "hourly_avg_df.dropna(inplace=True)\n",
    "hourly_avg_df"
   ]
  },
  {
   "cell_type": "markdown",
   "id": "000e8276",
   "metadata": {},
   "source": [
    "---"
   ]
  },
  {
   "cell_type": "markdown",
   "id": "055befa2",
   "metadata": {
    "tags": []
   },
   "source": [
    "## <span style='color:#ff5f27'> 🌦 Loading Weather Data from [Open Meteo](https://open-meteo.com/en/docs)"
   ]
  },
  {
   "cell_type": "markdown",
   "id": "78686a28",
   "metadata": {},
   "source": [
    "## <span style='color:#ff5f27'> 🌍 STEP 9: Download the Historical Weather Data </span>\n",
    "\n",
    "https://open-meteo.com/en/docs/historical-weather-api#hourly=&daily=temperature_2m_mean,precipitation_sum,wind_speed_10m_max,wind_direction_10m_dominant\n",
    "\n",
    "We will download the historical weather data for your `city` by first extracting the earliest date from your DataFrame containing the historical air quality measurements.\n",
    "\n",
    "We will download all daily historical weather data measurements for your `city` from the earliest date in your air quality measurement DataFrame. It doesn't matter if there are missing days of air quality measurements. We can store all of the daily weather measurements, and when we build our training dataset, we will join up the air quality measurements for a given day to its weather features for that day. \n",
    "\n",
    "The weather features we will download are:\n",
    "\n",
    " * `temperature (average over the day)`\n",
    " * `precipitation (the total over the day)`\n",
    " * `wind speed (average over the day)`\n",
    " * `wind direction (the most dominant direction over the day)`\n"
   ]
  },
  {
   "cell_type": "code",
   "execution_count": 13,
   "id": "96d604b3",
   "metadata": {},
   "outputs": [
    {
     "name": "stdout",
     "output_type": "stream",
     "text": [
      "Coordinates 41.37082290649414°N 2.068965435028076°E\n",
      "Elevation 13.0 m asl\n",
      "Timezone None None\n",
      "Timezone difference to GMT+0 0 s\n"
     ]
    },
    {
     "data": {
      "text/html": [
       "<div>\n",
       "<style scoped>\n",
       "    .dataframe tbody tr th:only-of-type {\n",
       "        vertical-align: middle;\n",
       "    }\n",
       "\n",
       "    .dataframe tbody tr th {\n",
       "        vertical-align: top;\n",
       "    }\n",
       "\n",
       "    .dataframe thead th {\n",
       "        text-align: right;\n",
       "    }\n",
       "</style>\n",
       "<table border=\"1\" class=\"dataframe\">\n",
       "  <thead>\n",
       "    <tr style=\"text-align: right;\">\n",
       "      <th></th>\n",
       "      <th>date</th>\n",
       "      <th>precipitation</th>\n",
       "      <th>temperature</th>\n",
       "      <th>city</th>\n",
       "      <th>time</th>\n",
       "      <th>day</th>\n",
       "    </tr>\n",
       "  </thead>\n",
       "  <tbody>\n",
       "    <tr>\n",
       "      <th>0</th>\n",
       "      <td>2024-09-30 00:00:00+00:00</td>\n",
       "      <td>0.0</td>\n",
       "      <td>15.441501</td>\n",
       "      <td>Barcelona</td>\n",
       "      <td>00</td>\n",
       "      <td>2024-09-30</td>\n",
       "    </tr>\n",
       "    <tr>\n",
       "      <th>1</th>\n",
       "      <td>2024-09-30 01:00:00+00:00</td>\n",
       "      <td>0.0</td>\n",
       "      <td>15.791500</td>\n",
       "      <td>Barcelona</td>\n",
       "      <td>01</td>\n",
       "      <td>2024-09-30</td>\n",
       "    </tr>\n",
       "    <tr>\n",
       "      <th>2</th>\n",
       "      <td>2024-09-30 02:00:00+00:00</td>\n",
       "      <td>0.0</td>\n",
       "      <td>15.791500</td>\n",
       "      <td>Barcelona</td>\n",
       "      <td>02</td>\n",
       "      <td>2024-09-30</td>\n",
       "    </tr>\n",
       "    <tr>\n",
       "      <th>3</th>\n",
       "      <td>2024-09-30 03:00:00+00:00</td>\n",
       "      <td>0.0</td>\n",
       "      <td>15.641500</td>\n",
       "      <td>Barcelona</td>\n",
       "      <td>03</td>\n",
       "      <td>2024-09-30</td>\n",
       "    </tr>\n",
       "    <tr>\n",
       "      <th>4</th>\n",
       "      <td>2024-09-30 04:00:00+00:00</td>\n",
       "      <td>0.0</td>\n",
       "      <td>15.291500</td>\n",
       "      <td>Barcelona</td>\n",
       "      <td>04</td>\n",
       "      <td>2024-09-30</td>\n",
       "    </tr>\n",
       "    <tr>\n",
       "      <th>...</th>\n",
       "      <td>...</td>\n",
       "      <td>...</td>\n",
       "      <td>...</td>\n",
       "      <td>...</td>\n",
       "      <td>...</td>\n",
       "      <td>...</td>\n",
       "    </tr>\n",
       "    <tr>\n",
       "      <th>2252</th>\n",
       "      <td>2025-01-01 20:00:00+00:00</td>\n",
       "      <td>0.0</td>\n",
       "      <td>6.691500</td>\n",
       "      <td>Barcelona</td>\n",
       "      <td>20</td>\n",
       "      <td>2025-01-01</td>\n",
       "    </tr>\n",
       "    <tr>\n",
       "      <th>2253</th>\n",
       "      <td>2025-01-01 21:00:00+00:00</td>\n",
       "      <td>0.0</td>\n",
       "      <td>4.941500</td>\n",
       "      <td>Barcelona</td>\n",
       "      <td>21</td>\n",
       "      <td>2025-01-01</td>\n",
       "    </tr>\n",
       "    <tr>\n",
       "      <th>2254</th>\n",
       "      <td>2025-01-01 22:00:00+00:00</td>\n",
       "      <td>0.0</td>\n",
       "      <td>3.391500</td>\n",
       "      <td>Barcelona</td>\n",
       "      <td>22</td>\n",
       "      <td>2025-01-01</td>\n",
       "    </tr>\n",
       "    <tr>\n",
       "      <th>2255</th>\n",
       "      <td>2025-01-01 23:00:00+00:00</td>\n",
       "      <td>0.0</td>\n",
       "      <td>2.941500</td>\n",
       "      <td>Barcelona</td>\n",
       "      <td>23</td>\n",
       "      <td>2025-01-01</td>\n",
       "    </tr>\n",
       "    <tr>\n",
       "      <th>2256</th>\n",
       "      <td>2025-01-02 00:00:00+00:00</td>\n",
       "      <td>0.0</td>\n",
       "      <td>2.791500</td>\n",
       "      <td>Barcelona</td>\n",
       "      <td>00</td>\n",
       "      <td>2025-01-02</td>\n",
       "    </tr>\n",
       "  </tbody>\n",
       "</table>\n",
       "<p>2257 rows × 6 columns</p>\n",
       "</div>"
      ],
      "text/plain": [
       "                          date  precipitation  temperature       city time  \\\n",
       "0    2024-09-30 00:00:00+00:00            0.0    15.441501  Barcelona   00   \n",
       "1    2024-09-30 01:00:00+00:00            0.0    15.791500  Barcelona   01   \n",
       "2    2024-09-30 02:00:00+00:00            0.0    15.791500  Barcelona   02   \n",
       "3    2024-09-30 03:00:00+00:00            0.0    15.641500  Barcelona   03   \n",
       "4    2024-09-30 04:00:00+00:00            0.0    15.291500  Barcelona   04   \n",
       "...                        ...            ...          ...        ...  ...   \n",
       "2252 2025-01-01 20:00:00+00:00            0.0     6.691500  Barcelona   20   \n",
       "2253 2025-01-01 21:00:00+00:00            0.0     4.941500  Barcelona   21   \n",
       "2254 2025-01-01 22:00:00+00:00            0.0     3.391500  Barcelona   22   \n",
       "2255 2025-01-01 23:00:00+00:00            0.0     2.941500  Barcelona   23   \n",
       "2256 2025-01-02 00:00:00+00:00            0.0     2.791500  Barcelona   00   \n",
       "\n",
       "             day  \n",
       "0     2024-09-30  \n",
       "1     2024-09-30  \n",
       "2     2024-09-30  \n",
       "3     2024-09-30  \n",
       "4     2024-09-30  \n",
       "...          ...  \n",
       "2252  2025-01-01  \n",
       "2253  2025-01-01  \n",
       "2254  2025-01-01  \n",
       "2255  2025-01-01  \n",
       "2256  2025-01-02  \n",
       "\n",
       "[2257 rows x 6 columns]"
      ]
     },
     "execution_count": 13,
     "metadata": {},
     "output_type": "execute_result"
    }
   ],
   "source": [
    "earliest_bikes_date = pd.Series.min(hourly_avg_df['day'])\n",
    "\n",
    "weather_df = util.get_historical_weather(city, earliest_bikes_date, str(today), latitude, longitude)\n",
    "\n",
    "weather_df['date'] = pd.to_datetime(\n",
    "    weather_df['date'], unit='s', utc=True, errors='coerce'\n",
    ")\n",
    "\n",
    "weather_df['time'] = weather_df['date'].dt.strftime('%H')\n",
    "weather_df['day'] = weather_df['date'].dt.strftime('%Y-%m-%d')\n",
    "weather_df"
   ]
  },
  {
   "cell_type": "code",
   "execution_count": 14,
   "id": "cd6eefe3",
   "metadata": {},
   "outputs": [
    {
     "name": "stdout",
     "output_type": "stream",
     "text": [
      "<class 'pandas.core.frame.DataFrame'>\n",
      "Index: 2257 entries, 0 to 2256\n",
      "Data columns (total 6 columns):\n",
      " #   Column         Non-Null Count  Dtype              \n",
      "---  ------         --------------  -----              \n",
      " 0   date           2257 non-null   datetime64[ns, UTC]\n",
      " 1   precipitation  2257 non-null   float32            \n",
      " 2   temperature    2257 non-null   float32            \n",
      " 3   city           2257 non-null   object             \n",
      " 4   time           2257 non-null   object             \n",
      " 5   day            2257 non-null   object             \n",
      "dtypes: datetime64[ns, UTC](1), float32(2), object(3)\n",
      "memory usage: 105.8+ KB\n"
     ]
    }
   ],
   "source": [
    "weather_df.info()"
   ]
  },
  {
   "cell_type": "markdown",
   "id": "8a9d5eeb",
   "metadata": {},
   "source": [
    "## <span style='color:#ff5f27'> 🌍 STEP 10: Define Data Validation Rules </span>\n",
    "\n",
    "We will validate the air quality measurements (`pm25` values) before we write them to Hopsworks.\n",
    "\n",
    "We define a data validation rule (an expectation in Great Expectations) that ensures that `pm25` values are not negative or above the max value available by the sensor.\n",
    "\n",
    "We will attach this expectation to the air quality feature group, so that we validate the `pm25` data every time we write a DataFrame to the feature group. We want to prevent garbage-in, garbage-out."
   ]
  },
  {
   "cell_type": "markdown",
   "id": "5bef9ed3",
   "metadata": {},
   "source": [
    "## Expectations for Weather Data\n",
    "Here, we define an expectation for 2 columns in our weather DataFrame - `precipitation_sum` and `wind_speed_10m_max`, where we expect both values to be greater than zero, but less than 1000."
   ]
  },
  {
   "cell_type": "markdown",
   "id": "fb3830b7",
   "metadata": {},
   "source": [
    "---"
   ]
  },
  {
   "cell_type": "markdown",
   "id": "6291a502",
   "metadata": {},
   "source": [
    "### <span style=\"color:#ff5f27;\"> 🔮 STEP 11: Connect to Hopsworks and save the sensor country, city, street names as a secret</span>"
   ]
  },
  {
   "cell_type": "code",
   "execution_count": 15,
   "id": "aeaf20ef",
   "metadata": {},
   "outputs": [],
   "source": [
    "fs = project.get_feature_store() "
   ]
  },
  {
   "cell_type": "markdown",
   "id": "20dd82f7",
   "metadata": {},
   "source": [
    "#### Save country, city, street names as a secret\n",
    "\n",
    "These will be downloaded from Hopsworks later in the (1) daily feature pipeline and (2) the daily batch inference pipeline"
   ]
  },
  {
   "cell_type": "code",
   "execution_count": 16,
   "id": "cd36749d",
   "metadata": {},
   "outputs": [
    {
     "name": "stdout",
     "output_type": "stream",
     "text": [
      "Secret created successfully, explore it at https://c.app.hopsworks.ai:443/account/secrets\n"
     ]
    }
   ],
   "source": [
    "dict_obj = {\n",
    "    \"city\": city,\n",
    "    \"station_id\": station_id,\n",
    "    \"bikes_url\": bikes_url,\n",
    "    \"latitude\": latitude,\n",
    "    \"longitude\": longitude\n",
    "}\n",
    "\n",
    "# Convert the dictionary to a JSON string\n",
    "str_dict = json.dumps(dict_obj)\n",
    "\n",
    "try:\n",
    "    secrets.create_secret(\"STATION_PARAMS_JSON\", str_dict)\n",
    "except hopsworks.RestAPIError:\n",
    "    print(\"STATION_PARAMS_JSON already exists. To update, delete the secret in the UI (https://c.app.hopsworks.ai/account/secrets) and re-run this cell.\")\n",
    "    existing_key = secrets.get_secret(\"STATION_PARAMS_JSON\").value\n",
    "    print(f\"{existing_key}\")"
   ]
  },
  {
   "cell_type": "markdown",
   "id": "27e79b3f",
   "metadata": {},
   "source": [
    "### <span style=\"color:#ff5f27;\"> 🔮 STEP 12: Create the Feature Groups and insert the DataFrames in them </span>"
   ]
  },
  {
   "cell_type": "markdown",
   "id": "b3755b6f",
   "metadata": {},
   "source": [
    "### <span style='color:#ff5f27'> 🌫 Air Quality Data\n",
    "    \n",
    " 1. Provide a name, description, and version for the feature group.\n",
    " 2. Define the `primary_key`: we have to select which columns uniquely identify each row in the DataFrame - by providing them as the `primary_key`. Here, each air quality sensor measurement is uniquely identified by `country`, `street`, and  `date`.\n",
    " 3. Define the `event_time`: We also define which column stores the timestamp or date for the row - `date`.\n",
    " 4. Attach any `expectation_suite` containing data validation rules"
   ]
  },
  {
   "cell_type": "code",
   "execution_count": 42,
   "id": "4d2bb403",
   "metadata": {
    "scrolled": true,
    "tags": []
   },
   "outputs": [],
   "source": [
    "bikes_fg = fs.get_or_create_feature_group(\n",
    "    name='bikes',\n",
    "    description='Bikes available at a station every hour',\n",
    "    version=1,\n",
    "    primary_key=['time', 'date', 'day'],\n",
    "    event_time=\"last_updated\",\n",
    ")"
   ]
  },
  {
   "cell_type": "markdown",
   "id": "2933cfa5",
   "metadata": {},
   "source": [
    "#### Insert the DataFrame into the Feature Group"
   ]
  },
  {
   "cell_type": "code",
   "execution_count": 43,
   "id": "0fb42574",
   "metadata": {},
   "outputs": [
    {
     "name": "stdout",
     "output_type": "stream",
     "text": [
      "Feature Group created successfully, explore it at \n",
      "https://c.app.hopsworks.ai:443/p/1164440/fs/1155143/fg/1394494\n"
     ]
    },
    {
     "name": "stderr",
     "output_type": "stream",
     "text": [
      "Uploading Dataframe: 100.00% |██████████| Rows 723/723 | Elapsed Time: 00:01 | Remaining Time: 00:00\n"
     ]
    },
    {
     "name": "stdout",
     "output_type": "stream",
     "text": [
      "Launching job: bikes_2_offline_fg_materialization\n",
      "Job started successfully, you can follow the progress at \n",
      "https://c.app.hopsworks.ai:443/p/1164440/jobs/named/bikes_2_offline_fg_materialization/executions\n"
     ]
    },
    {
     "data": {
      "text/plain": [
       "(Job('bikes_2_offline_fg_materialization', 'SPARK'), None)"
      ]
     },
     "execution_count": 43,
     "metadata": {},
     "output_type": "execute_result"
    }
   ],
   "source": [
    "bikes_fg.insert(hourly_avg_df)"
   ]
  },
  {
   "cell_type": "markdown",
   "id": "663a1606",
   "metadata": {},
   "source": [
    "#### Enter a description for each feature in the Feature Group"
   ]
  },
  {
   "cell_type": "code",
   "execution_count": null,
   "id": "577effca",
   "metadata": {},
   "outputs": [
    {
     "data": {
      "text/plain": [
       "<hsfs.feature_group.FeatureGroup at 0x11042a690>"
      ]
     },
     "execution_count": 45,
     "metadata": {},
     "output_type": "execute_result"
    }
   ],
   "source": [
    "bikes_fg.update_feature_description(\"date\", \"Date of measurement of bikes availability\")\n",
    "bikes_fg.update_feature_description(\"time\", \"Hour of measurement of bikes availability\")\n",
    "bikes_fg.update_feature_description(\"num_bikes_available\", \"Available bikes at the station\")\n",
    "bikes_fg.update_feature_description(\"last_updated\", \"Last time the data was updated\")"
   ]
  },
  {
   "cell_type": "markdown",
   "id": "5894b731",
   "metadata": {},
   "source": [
    "### <span style='color:#ff5f27'> 🌦 Weather Data\n",
    "    \n",
    " 1. Provide a name, description, and version for the feature group.\n",
    " 2. Define the `primary_key`: we have to select which columns uniquely identify each row in the DataFrame - by providing them as the `primary_key`. Here, each weather measurement is uniquely identified by `city` and  `date`.\n",
    " 3. Define the `event_time`: We also define which column stores the timestamp or date for the row - `date`.\n",
    " 4. Attach any `expectation_suite` containing data validation rules"
   ]
  },
  {
   "cell_type": "code",
   "execution_count": 48,
   "id": "572a84ed",
   "metadata": {},
   "outputs": [],
   "source": [
    "# Get or create feature group \n",
    "weather_fg = fs.get_or_create_feature_group(\n",
    "    name='weather',\n",
    "    description='Weather characteristics of each hour',\n",
    "    version=1,\n",
    "    primary_key=['date', 'time', 'day'],\n",
    "    event_time=\"date\",\n",
    ") "
   ]
  },
  {
   "cell_type": "markdown",
   "id": "721881b7",
   "metadata": {},
   "source": [
    "#### Insert the DataFrame into the Feature Group"
   ]
  },
  {
   "cell_type": "code",
   "execution_count": 49,
   "id": "5ba846ea",
   "metadata": {
    "tags": []
   },
   "outputs": [
    {
     "name": "stdout",
     "output_type": "stream",
     "text": [
      "Feature Group created successfully, explore it at \n",
      "https://c.app.hopsworks.ai:443/p/1164440/fs/1155143/fg/1393484\n"
     ]
    },
    {
     "name": "stderr",
     "output_type": "stream",
     "text": [
      "Uploading Dataframe: 100.00% |██████████| Rows 2257/2257 | Elapsed Time: 00:01 | Remaining Time: 00:00\n"
     ]
    },
    {
     "name": "stdout",
     "output_type": "stream",
     "text": [
      "Launching job: weather_1_offline_fg_materialization\n",
      "Job started successfully, you can follow the progress at \n",
      "https://c.app.hopsworks.ai:443/p/1164440/jobs/named/weather_1_offline_fg_materialization/executions\n"
     ]
    },
    {
     "data": {
      "text/plain": [
       "(Job('weather_1_offline_fg_materialization', 'SPARK'), None)"
      ]
     },
     "execution_count": 49,
     "metadata": {},
     "output_type": "execute_result"
    }
   ],
   "source": [
    "# Insert data\n",
    "weather_fg.insert(weather_df)"
   ]
  },
  {
   "cell_type": "markdown",
   "id": "5a87422d",
   "metadata": {},
   "source": [
    "#### Enter a description for each feature in the Feature Group"
   ]
  },
  {
   "cell_type": "code",
   "execution_count": null,
   "id": "71e6f6d3",
   "metadata": {},
   "outputs": [],
   "source": [
    "weather_fg.update_feature_description(\"date\", \"Date of measurement of weather\")\n",
    "weather_fg.update_feature_description(\"day\", \"Day of measurement of weather\")\n",
    "weather_fg.update_feature_description(\"time\", \"Time of measurement of weather\")\n",
    "weather_fg.update_feature_description(\"city\", \"City where weather is measured/forecast for\")\n",
    "weather_fg.update_feature_description(\"precipitation\", \"Precipitation (rain/snow) in mm\")\n",
    "weather_fg.update_feature_description(\"wind_speed_100m\", \"Wind speed at 100m abouve ground\")"
   ]
  },
  {
   "cell_type": "markdown",
   "id": "cedc16b5",
   "metadata": {},
   "source": [
    "## <span style=\"color:#ff5f27;\">⏭️ **Next:** Part 02: Daily Feature Pipeline \n",
    " </span> \n"
   ]
  },
  {
   "cell_type": "markdown",
   "id": "7c029117",
   "metadata": {},
   "source": [
    "## <span style=\"color:#ff5f27;\">⏭️ **Exercises:** \n",
    " </span> \n",
    "\n",
    "Extra Homework:\n",
    "\n",
    "  * Try adding a new feature based on a rolling window of 3 days for 'pm25'\n",
    "      * This is not easy, as forecasting more than 1 day in the future, you won't have the previous 3 days of pm25 measurements.\n",
    "      * df.set_index(\"date\").rolling(3).mean() is only the start....\n",
    "  * Parameterize the notebook, so that you can provide the `country`/`street`/`city`/`url`/`csv_file` as parameters. \n",
    "      * Hint: this will also require making the secret name (`SENSOR_LOCATION_JSON`), e.g., add the street name as part of the secret name. Then you have to pass that secret name as a parameter when running the operational feature pipeline and batch inference pipelines.\n",
    "      * After you have done this, collect the street/city/url/csv files for all the sensors in your city or region and you make dashboards for all of the air quality sensors in your city/region. You could even then add a dashboard for your city/region, as done [here for Poland](https://github.com/erno98/ID2223).\n",
    "\n",
    "Improve this AI System\n",
    "  * As of mid 2024, there is no API call available to download historical data from the AQIN website. You could improve this system by writing a PR to download the CSV file using Python Selenium and the URL for the sensor.\n"
   ]
  },
  {
   "cell_type": "markdown",
   "id": "bb407899",
   "metadata": {},
   "source": [
    "---"
   ]
  }
 ],
 "metadata": {
  "kernelspec": {
   "display_name": "bikes",
   "language": "python",
   "name": "python3"
  },
  "language_info": {
   "codemirror_mode": {
    "name": "ipython",
    "version": 3
   },
   "file_extension": ".py",
   "mimetype": "text/x-python",
   "name": "python",
   "nbconvert_exporter": "python",
   "pygments_lexer": "ipython3",
   "version": "3.11.5"
  }
 },
 "nbformat": 4,
 "nbformat_minor": 5
}
